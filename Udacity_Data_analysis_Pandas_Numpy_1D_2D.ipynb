{
 "cells": [
  {
   "cell_type": "code",
   "execution_count": 2,
   "metadata": {
    "collapsed": true
   },
   "outputs": [],
   "source": [
    "import os\n",
    "import pandas as pd\n",
    "\n",
    "os.chdir('C:\\\\Users\\\\dhrugarg\\\\Documents\\\\Python Scripts\\\\Udacity_Numpy_Pandas_Datasets')\n",
    "\n",
    "pars = pd.read_csv('life_expectancy.csv',iterator = True, chunksize = 100)  # This returns a text file reader object not a df\n",
    "Life_exp = pd.concat(pars)   # Text file reader object is then concat together one below other\n",
    "gdp_per_capita = pd.read_csv('gdp_per_capita.csv')\n",
    "female_completion_rate = pd.read_csv('female_completion_rate.csv')\n",
    "male_completion = pd.read_csv('male_completion_rate.csv')\n",
    "employment_above_15 = pd.read_csv('employment_above_15.csv')\n"
   ]
  },
  {
   "cell_type": "code",
   "execution_count": 112,
   "metadata": {},
   "outputs": [
    {
     "name": "stdout",
     "output_type": "stream",
     "text": [
      "Examining country Afghanistan\n",
      "Examining country Albania\n",
      "Examining country Algeria\n",
      "Examining country Angola\n",
      "Examining country Argentina\n",
      "Examining country Armenia\n",
      "Examining country Australia\n",
      "Examining country Austria\n",
      "Examining country Azerbaijan\n",
      "Examining country Bahamas\n",
      "Examining country Bahrain\n",
      "Examining country Bangladesh\n",
      "Examining country Barbados\n",
      "Examining country Belarus\n",
      "Examining country Belgium\n",
      "Examining country Belize\n",
      "Examining country Benin\n",
      "Examining country Bhutan\n",
      "Examining country Bolivia\n",
      "Examining country Bosnia and Herzegovina\n",
      "Examining country Botswana\n",
      "Examining country Brazil\n",
      "Examining country Brunei\n",
      "Examining country Bulgaria\n",
      "Examining country Burkina Faso\n",
      "Examining country Burundi\n",
      "Examining country Cambodia\n",
      "Examining country Cameroon\n",
      "Examining country Canada\n",
      "Examining country Cape Verde\n",
      "Examining country Central African Rep.\n",
      "Examining country Chad\n",
      "Examining country Chile\n",
      "Examining country China\n",
      "Examining country Colombia\n",
      "Examining country Comoros\n",
      "Examining country Congo, Rep.\n",
      "Examining country Congo, Dem. Rep.\n",
      "Examining country Costa Rica\n",
      "Examining country Cote d'Ivoire\n",
      "Examining country Croatia\n",
      "Examining country Cuba\n",
      "Examining country Cyprus\n",
      "Examining country Czech Rep.\n",
      "Examining country Denmark\n",
      "Examining country Dominican Rep.\n",
      "Examining country Timor-Leste\n",
      "Examining country Ecuador\n",
      "Examining country Egypt\n",
      "Examining country El Salvador\n",
      "Examining country Equatorial Guinea\n",
      "Examining country Eritrea\n",
      "Examining country Estonia\n",
      "Examining country Ethiopia\n",
      "Examining country Fiji\n",
      "Examining country Finland\n",
      "Examining country France\n",
      "Examining country Gabon\n",
      "Examining country Gambia\n",
      "Examining country Georgia\n",
      "Examining country Germany\n",
      "Examining country Ghana\n",
      "Examining country Greece\n",
      "Examining country Guadeloupe\n",
      "Examining country Guatemala\n",
      "Examining country Guinea\n",
      "Examining country Guinea-Bissau\n",
      "Examining country Guyana\n",
      "Examining country Haiti\n",
      "Examining country Honduras\n",
      "Examining country Hong Kong, China\n",
      "Examining country Hungary\n",
      "Examining country Iceland\n",
      "Examining country India\n",
      "Examining country Indonesia\n",
      "Examining country Iran\n",
      "Examining country Iraq\n",
      "Examining country Ireland\n",
      "Examining country Israel\n",
      "Examining country Italy\n",
      "Examining country Jamaica\n",
      "Examining country Japan\n",
      "Examining country Jordan\n",
      "Examining country Kazakhstan\n",
      "Examining country Kenya\n",
      "Examining country Korea, Dem. Rep.\n",
      "Examining country Korea, Rep.\n",
      "Examining country Kuwait\n",
      "Examining country Kyrgyzstan\n",
      "Examining country Laos\n",
      "Examining country Latvia\n",
      "Examining country Lebanon\n",
      "Examining country Lesotho\n",
      "Examining country Liberia\n",
      "Examining country Libya\n",
      "Examining country Lithuania\n",
      "Examining country Luxembourg\n",
      "Examining country Macao, China\n",
      "Examining country Madagascar\n",
      "Examining country Malawi\n",
      "Examining country Malaysia\n",
      "Examining country Maldives\n",
      "Examining country Mali\n",
      "Examining country Malta\n",
      "Examining country Martinique\n",
      "Examining country Mauritania\n",
      "Examining country Mauritius\n",
      "Examining country Mexico\n",
      "Examining country Mongolia\n",
      "Examining country Morocco\n",
      "Examining country Mozambique\n",
      "Examining country Myanmar\n",
      "Examining country Namibia\n",
      "Examining country Nepal\n",
      "Examining country Netherlands\n",
      "Examining country Netherlands Antilles\n",
      "Examining country New Zealand\n",
      "Examining country Nicaragua\n",
      "Examining country Niger\n",
      "Examining country Nigeria\n",
      "Examining country Norway\n",
      "Examining country Oman\n",
      "Examining country Pakistan\n",
      "Examining country Panama\n",
      "Examining country Papua New Guinea\n",
      "Examining country Paraguay\n",
      "Examining country Peru\n",
      "Examining country Philippines\n",
      "Examining country Poland\n",
      "Examining country Portugal\n",
      "Examining country Puerto Rico\n",
      "Examining country Qatar\n",
      "Examining country Moldova\n",
      "Examining country Reunion\n",
      "Examining country Romania\n",
      "Examining country Russia\n",
      "Examining country Rwanda\n",
      "Examining country Saudi Arabia\n",
      "Examining country Senegal\n",
      "Examining country Serbia and Montenegro\n",
      "Examining country Sierra Leone\n",
      "Examining country Singapore\n",
      "Examining country Slovak Republic\n",
      "Examining country Slovenia\n",
      "Examining country Solomon Islands\n",
      "Examining country Somalia\n",
      "Examining country South Africa\n",
      "Examining country Spain\n",
      "Examining country Sri Lanka\n",
      "Examining country Sudan\n",
      "Examining country Suriname\n",
      "Examining country Swaziland\n",
      "Examining country Sweden\n",
      "Examining country Switzerland\n",
      "Examining country Syria\n",
      "Examining country Taiwan\n",
      "Examining country Tajikistan\n",
      "Examining country Tanzania\n",
      "Examining country Thailand\n",
      "Examining country Macedonia, FYR\n",
      "Examining country Togo\n",
      "Examining country Trinidad and Tobago\n",
      "Examining country Tunisia\n",
      "Examining country Turkey\n",
      "Examining country Turkmenistan\n",
      "Examining country Uganda\n",
      "Examining country Ukraine\n",
      "Examining country United Arab Emirates\n",
      "Examining country United Kingdom\n",
      "Examining country United States\n",
      "Examining country Uruguay\n",
      "Examining country Uzbekistan\n",
      "Examining country Venezuela\n",
      "Examining country Vietnam\n",
      "Examining country West Bank and Gaza\n",
      "Examining country Yemen, Rep.\n",
      "Examining country Zambia\n",
      "Examining country Zimbabwe\n",
      "Country Afghanistan has employment 56.7000007629\n",
      "Country Albania has employment 52.7000007629\n",
      "Country Algeria has employment 39.4000015259\n",
      "Country Angola has employment 75.8000030518\n",
      "Country Argentina has employment 53.5999984741\n",
      "Country Armenia has employment 39.2999992371\n",
      "Country Australia has employment 57.2000007629\n",
      "Country Austria has employment 54.2000007629\n",
      "Country Azerbaijan has employment 56.9000015259\n",
      "Country Bahamas has employment 63.0\n",
      "Country Bahrain has employment 61.2000007629\n",
      "Country Bangladesh has employment 74.5\n",
      "Country Barbados has employment 56.9000015259\n",
      "Country Belarus has employment 59.2000007629\n",
      "Country Belgium has employment 45.7000007629\n",
      "Country Belize has employment 47.5999984741\n",
      "Country Benin has employment 70.5999984741\n",
      "Country Bhutan has employment 53.7000007629\n",
      "Country Bolivia has employment 61.5\n",
      "Country Bosnia and Herzegovina has employment 51.5999984741\n",
      "Country Botswana has employment 48.9000015259\n",
      "Country Brazil has employment 56.0999984741\n",
      "Country Brunei has employment 62.5999984741\n",
      "Country Bulgaria has employment 46.4000015259\n",
      "Country Burkina Faso has employment 80.6999969482\n",
      "Country Burundi has employment 84.1999969482\n",
      "Country Cambodia has employment 78.0\n",
      "Country Cameroon has employment 59.4000015259\n",
      "Country Canada has employment 59.4000015259\n",
      "Country Cape Verde has employment 56.5\n",
      "Country Central African Rep. has employment 72.4000015259\n",
      "Country Chad has employment 66.0\n",
      "Country Chile has employment 51.2000007629\n",
      "Country China has employment 76.0999984741\n",
      "Country Colombia has employment 52.4000015259\n",
      "Country Comoros has employment 69.3000030518\n",
      "Country Congo, Rep. has employment 64.6999969482\n",
      "Country Congo, Dem. Rep. has employment 67.0\n",
      "Country Costa Rica has employment 56.9000015259\n",
      "Country Cote d'Ivoire has employment 62.4000015259\n",
      "Country Croatia has employment 46.0\n",
      "Country Cuba has employment 53.0\n",
      "Country Cyprus has employment 61.4000015259\n",
      "Country Czech Rep. has employment 57.7000007629\n",
      "Country Denmark has employment 61.9000015259\n",
      "Country Dominican Rep. has employment 43.5999984741\n",
      "Country Timor-Leste has employment 63.9000015259\n",
      "Country Ecuador has employment 51.7999992371\n",
      "Country Egypt has employment 42.7000007629\n",
      "Country El Salvador has employment 58.7999992371\n",
      "Country Equatorial Guinea has employment 60.9000015259\n",
      "Country Eritrea has employment 65.0999984741\n",
      "Country Estonia has employment 62.7999992371\n",
      "Country Ethiopia has employment 71.9000015259\n",
      "Country Fiji has employment 53.7000007629\n",
      "Country Finland has employment 59.0999984741\n",
      "Country France has employment 49.5\n",
      "Country Gabon has employment 58.2999992371\n",
      "Country Gambia has employment 72.4000015259\n",
      "Country Georgia has employment 58.2999992371\n",
      "Country Germany has employment 56.2000007629\n",
      "Country Ghana has employment 68.5999984741\n",
      "Country Greece has employment 45.7999992371\n",
      "Country Guadeloupe has employment 44.5\n",
      "Country Guatemala has employment 55.7999992371\n",
      "Country Guinea has employment 82.3000030518\n",
      "Country Guinea-Bissau has employment 65.9000015259\n",
      "Country Guyana has employment 51.7000007629\n",
      "Country Haiti has employment 56.0\n",
      "Country Honduras has employment 59.0999984741\n",
      "Country Hong Kong, China has employment 62.5999984741\n",
      "Country Hungary has employment 49.5999984741\n",
      "Country Iceland has employment 72.4000015259\n",
      "Country India has employment 59.0\n",
      "Country Indonesia has employment 63.2000007629\n",
      "Country Iran has employment 46.0\n",
      "Country Iraq has employment 35.0999984741\n",
      "Country Ireland has employment 44.5999984741\n",
      "Country Israel has employment 46.2000007629\n",
      "Country Italy has employment 44.5\n",
      "Country Jamaica has employment 61.5\n",
      "Country Japan has employment 62.5\n",
      "Country Jordan has employment 36.2000007629\n",
      "Country Kazakhstan has employment 63.7000007629\n",
      "Country Kenya has employment 72.3000030518\n",
      "Country Korea, Dem. Rep. has employment 62.4000015259\n",
      "Country Korea, Rep. has employment 59.0\n",
      "Country Kuwait has employment 61.9000015259\n",
      "Country Kyrgyzstan has employment 59.5\n",
      "Country Laos has employment 80.4000015259\n",
      "Country Latvia has employment 58.9000015259\n",
      "Country Lebanon has employment 45.9000015259\n",
      "Country Lesotho has employment 50.7999992371\n",
      "Country Liberia has employment 65.6999969482\n",
      "Country Libya has employment 45.7999992371\n",
      "Country Lithuania has employment 54.7999992371\n",
      "Country Luxembourg has employment 51.2000007629\n",
      "Country Macao, China has employment 56.7999992371\n",
      "Country Madagascar has employment 79.0999984741\n",
      "Country Malawi has employment 71.5999984741\n",
      "Country Malaysia has employment 60.0999984741\n",
      "Country Maldives has employment 49.7999992371\n",
      "Country Mali has employment 47.5999984741\n",
      "Country Malta has employment 43.7000007629\n",
      "Country Martinique has employment 46.2000007629\n",
      "Country Mauritania has employment 54.4000015259\n",
      "Country Mauritius has employment 56.2000007629\n",
      "Country Mexico has employment 56.9000015259\n",
      "Country Mongolia has employment 51.0999984741\n",
      "Country Morocco has employment 46.0999984741\n",
      "Country Mozambique has employment 79.0999984741\n",
      "Country Myanmar has employment 74.5\n",
      "Country Namibia has employment 45.7000007629\n",
      "Country Nepal has employment 61.2000007629\n",
      "Country Netherlands has employment 53.2000007629\n",
      "Country Netherlands Antilles has employment 49.0\n",
      "Country New Zealand has employment 57.0\n",
      "Country Nicaragua has employment 52.7999992371\n",
      "Country Niger has employment 60.0\n",
      "Country Nigeria has employment 52.2000007629\n",
      "Country Norway has employment 59.7999992371\n",
      "Country Oman has employment 52.7999992371\n",
      "Country Pakistan has employment 47.5999984741\n",
      "Country Panama has employment 50.0\n",
      "Country Papua New Guinea has employment 70.4000015259\n",
      "Country Paraguay has employment 61.5999984741\n",
      "Country Peru has employment 58.4000015259\n",
      "Country Philippines has employment 59.0999984741\n",
      "Country Poland has employment 54.0\n",
      "Country Portugal has employment 59.0999984741\n",
      "Country Puerto Rico has employment 38.0999984741\n",
      "Country Qatar has employment 74.0999984741\n",
      "Country Moldova has employment 58.5999984741\n",
      "Country Reunion has employment 33.5\n",
      "Country Romania has employment 56.7999992371\n",
      "Country Russia has employment 58.0999984741\n",
      "Country Rwanda has employment 86.8000030518\n",
      "Country Saudi Arabia has employment 51.0\n",
      "Country Senegal has employment 66.9000015259\n",
      "Country Serbia and Montenegro has employment 49.7000007629\n",
      "Country Sierra Leone has employment 63.5\n",
      "Country Singapore has employment 64.4000015259\n",
      "Country Slovak Republic has employment 56.0\n",
      "Country Slovenia has employment 55.7999992371\n",
      "Country Solomon Islands has employment 67.4000015259\n",
      "Country Somalia has employment 64.9000015259\n",
      "Country South Africa has employment 39.7000007629\n",
      "Country Spain has employment 42.7000007629\n",
      "Country Sri Lanka has employment 52.0\n",
      "Country Sudan has employment 46.2000007629\n",
      "Country Suriname has employment 44.5999984741\n",
      "Country Swaziland has employment 54.2000007629\n",
      "Country Sweden has employment 64.9000015259\n",
      "Country Switzerland has employment 67.6999969482\n",
      "Country Syria has employment 46.7999992371\n",
      "Country Taiwan has employment 56.9000015259\n",
      "Country Tajikistan has employment 54.2999992371\n",
      "Country Tanzania has employment 87.5\n",
      "Country Thailand has employment 77.6999969482\n",
      "Country Macedonia, FYR has employment 37.5999984741\n",
      "Country Togo has employment 65.1999969482\n",
      "Country Trinidad and Tobago has employment 45.0\n",
      "Country Tunisia has employment 40.7000007629\n",
      "Country Turkey has employment 53.0\n",
      "Country Turkmenistan has employment 56.0999984741\n",
      "Country Uganda has employment 85.0\n",
      "Country Ukraine has employment 58.5\n",
      "Country United Arab Emirates has employment 71.3000030518\n",
      "Country United Kingdom has employment 57.9000015259\n",
      "Country United States has employment 61.2999992371\n",
      "Country Uruguay has employment 54.0\n",
      "Country Uzbekistan has employment 54.5\n",
      "Country Venezuela has employment 51.5999984741\n",
      "Country Vietnam has employment 75.5999984741\n",
      "Country West Bank and Gaza has employment 29.2999992371\n",
      "Country Yemen, Rep. has employment 38.2999992371\n",
      "Country Zambia has employment 57.0\n",
      "Country Zimbabwe has employment 70.1999969482\n"
     ]
    },
    {
     "data": {
      "text/plain": [
       "('Tanzania', 87.5)"
      ]
     },
     "execution_count": 112,
     "metadata": {},
     "output_type": "execute_result"
    }
   ],
   "source": [
    "# General Array stuff\n",
    "\n",
    "\n",
    "countries = np.array(employment_above_15['Country'])  #Converting a series to a array simple np.array works !\n",
    "employment = np.array(employment_above_15['1991'])\n",
    "\n",
    "# Looping through a array\n",
    "if True:    # You can toggle this False/True\n",
    "    for country in countries:\n",
    "        print 'Examining country {}'.format(country)   # Interesting way of printing a value \n",
    "\n",
    "    for i in range(len(countries)):\n",
    "        country = countries[i]\n",
    "        country_employment = employment[i]\n",
    "        print 'Country {} has employment {}'.format(country,\n",
    "                country_employment)\n",
    "        \n",
    "#Looking at the employment above 15 DF and populating the countries with max employment for the year 1991\n",
    "\n",
    "def max_employment(countries, employment):\n",
    "    \n",
    "    max_value = employment.max()\n",
    "    index = employment.tolist().index(max_value)    # Extract the position of a value from a numpy array can also use np.where\n",
    "    max_country = countries[index]                  # or in this case employment.argmax() as it gives the index location of the maz value\n",
    "\n",
    "    return (max_country, max_value)\n",
    "\n",
    "max_employment(countries,employment)"
   ]
  },
  {
   "cell_type": "code",
   "execution_count": 128,
   "metadata": {},
   "outputs": [
    {
     "data": {
      "text/plain": [
       "(17, 3)"
      ]
     },
     "execution_count": 128,
     "metadata": {},
     "output_type": "execute_result"
    }
   ],
   "source": [
    "# Pandas series subsetting using vector operations examples\n",
    "# Print the cases where the value of life expectancy and gdp are both below and above the avg\n",
    "# Interesting code here we are using the logical vectorized operations on the Boolean series that we are developing\n",
    "\n",
    "life_expectancy_values = [74.7,  75. ,  83.4,  57.6,  74.6,  75.4,  72.3,  81.5,  80.2,\n",
    "                          70.3,  72.1,  76.4,  68.1,  75.2,  69.8,  79.4,  70.8,  62.7,\n",
    "                          67.3,  70.6]\n",
    "\n",
    "gdp_values = [ 1681.61390973,   2155.48523109,  21495.80508273,    562.98768478,\n",
    "              13495.1274663 ,   9388.68852258,   1424.19056199,  24765.54890176,\n",
    "              27036.48733192,   1945.63754911,  21721.61840978,  13373.21993972,\n",
    "                483.97086804,   9783.98417323,   2253.46411147,  25034.66692293,\n",
    "               3680.91642923,    366.04496652,   1175.92638695,   1132.21387981]\n",
    "\n",
    "life_expectancy = pd.Series(life_expectancy_values)\n",
    "gdp = pd.Series(gdp_values)\n",
    "\n",
    "def variable_correlation(life_expectancy, gdp):\n",
    "   \n",
    "    a= ((life_expectancy - life_expectancy.mean())>0) &  ((gdp - gdp.mean())>0)\n",
    "    b= ((life_expectancy - life_expectancy.mean())<0) &  ((gdp - gdp.mean())<0)\n",
    "    c = a|b\n",
    "\n",
    "    num_same_direction =  len(c[c])                # Replace this with your code\n",
    "    num_different_direction = len(c[c==False])     # Replace this with your code\n",
    "    \n",
    "    return (num_same_direction, num_different_direction)\n",
    "    \n",
    "variable_correlation(life_expectancy, gdp)\n",
    "\n",
    "# The result points to kind of a +ve correlation between life exp and GDP when one increase the other also increases 17 out of \n",
    "# 20 times."
   ]
  },
  {
   "cell_type": "code",
   "execution_count": 131,
   "metadata": {},
   "outputs": [
    {
     "data": {
      "text/plain": [
       "('Angola', 75.699996949999999)"
      ]
     },
     "execution_count": 131,
     "metadata": {},
     "output_type": "execute_result"
    }
   ],
   "source": [
    "# Finding \n",
    "\n",
    "countries = [\n",
    "    'Afghanistan', 'Albania', 'Algeria', 'Angola',\n",
    "    'Argentina', 'Armenia', 'Australia', 'Austria',\n",
    "    'Azerbaijan', 'Bahamas', 'Bahrain', 'Bangladesh',\n",
    "    'Barbados', 'Belarus', 'Belgium', 'Belize',\n",
    "    'Benin', 'Bhutan', 'Bolivia', 'Bosnia and Herzegovina',\n",
    "]\n",
    "\n",
    "\n",
    "employment_values = [\n",
    "    55.70000076,  51.40000153,  50.5       ,  75.69999695,\n",
    "    58.40000153,  40.09999847,  61.5       ,  57.09999847,\n",
    "    60.90000153,  66.59999847,  60.40000153,  68.09999847,\n",
    "    66.90000153,  53.40000153,  48.59999847,  56.79999924,\n",
    "    71.59999847,  58.40000153,  70.40000153,  41.20000076,\n",
    "]\n",
    "\n",
    "# Employment data in 2007 for 20 countries\n",
    "employment = pd.Series(employment_values, index=countries)\n",
    "\n",
    "\n",
    "def max_employment(employment):\n",
    "    \n",
    "    max_country = employment.idxmax()      # idmax or argmax could be used idxmax generally used for DF's\n",
    "    max_value = employment.max()         \n",
    "\n",
    "    return (max_country, max_value)\n",
    "\n",
    "print max_employment(employment)"
   ]
  },
  {
   "cell_type": "code",
   "execution_count": 163,
   "metadata": {},
   "outputs": [
    {
     "data": {
      "text/plain": [
       "[22]"
      ]
     },
     "execution_count": 163,
     "metadata": {},
     "output_type": "execute_result"
    }
   ],
   "source": [
    "# Adding series with different indexes (Replacing Nan's with 0)\n",
    "\n",
    "s1 = pd.Series([1, 2, 3, 4], index=['a', 'b', 'c', 'd'])\n",
    "s2 = pd.Series([10, 20, 30, 40], index=['c', 'd', 'e', 'f'])\n",
    "sx = s1.add(s2,fill_value = 0)    # Whenever you add two series using .add or even append them allocate them to a new series \n",
    "sx                                # the value of the orignal series is not changed for array use np.append(a1,a2)\n"
   ]
  },
  {
   "cell_type": "markdown",
   "metadata": {},
   "source": [
    "BASIC FUNCTIONAL PROGRAMMING"
   ]
  },
  {
   "cell_type": "code",
   "execution_count": 166,
   "metadata": {},
   "outputs": [
    {
     "data": {
      "text/plain": [
       "[3, 5, 6, 9, 10, 12, 15, 18, 20, 21, 24]"
      ]
     },
     "execution_count": 166,
     "metadata": {},
     "output_type": "execute_result"
    }
   ],
   "source": [
    "# Very important - Map, Reduce and Filter operations on lists\n",
    "\n",
    "def f(x): return x % 3 == 0 or x % 5 == 0   # Filter applies the function which should return T/F and only returns a list of \n",
    "filter(f, range(2, 25))                     # values for which the ans is true\n",
    "\n",
    "filter(lambda x: x%3==0 or x%5==0 , range(2, 25))   \n",
    "\n",
    "def cube(x): return x*x*x                   # Map applies the function to each element of the list provided\n",
    "\n",
    "map(cube, range(1, 11))\n",
    "\n",
    "\n",
    "\n",
    "seq = range(8)                              # Can also apply functions with 2 arguments\n",
    "def add(x, y): return x+y\n",
    "map(add, seq, seq)\n",
    "\n",
    "\n",
    "# Add all nos from 0 - 10\n",
    "def add(x,y): return x+y                    # Takes the first result of the function and uses that result as a input for the next\n",
    "reduce(add, range(1, 11))                   # element finally just gives one value as output\n",
    "\n",
    "\n",
    "  \n",
    "\n"
   ]
  },
  {
   "cell_type": "code",
   "execution_count": 253,
   "metadata": {},
   "outputs": [
    {
     "ename": "NameError",
     "evalue": "name 'data' is not defined",
     "output_type": "error",
     "traceback": [
      "\u001b[0;31m---------------------------------------------------------------------------\u001b[0m",
      "\u001b[0;31mNameError\u001b[0m                                 Traceback (most recent call last)",
      "\u001b[0;32m<ipython-input-253-19672bf879eb>\u001b[0m in \u001b[0;36m<module>\u001b[0;34m()\u001b[0m\n\u001b[1;32m     16\u001b[0m \u001b[0mplt\u001b[0m\u001b[1;33m.\u001b[0m\u001b[0mhist\u001b[0m\u001b[1;33m(\u001b[0m\u001b[0mnp\u001b[0m\u001b[1;33m.\u001b[0m\u001b[0marray\u001b[0m\u001b[1;33m(\u001b[0m\u001b[0mrange\u001b[0m\u001b[1;33m(\u001b[0m\u001b[1;36m10\u001b[0m\u001b[1;33m)\u001b[0m\u001b[1;33m)\u001b[0m\u001b[1;33m)\u001b[0m\u001b[1;33m\u001b[0m\u001b[0m\n\u001b[1;32m     17\u001b[0m \u001b[1;33m\u001b[0m\u001b[0m\n\u001b[0;32m---> 18\u001b[0;31m \u001b[0mdata\u001b[0m\u001b[1;33m.\u001b[0m\u001b[0mplot\u001b[0m\u001b[1;33m(\u001b[0m\u001b[1;33m)\u001b[0m \u001b[1;31m# Gives a line plot for a series with index as x axis inbuilt functionality in pandas not there for lists\u001b[0m\u001b[1;33m\u001b[0m\u001b[0m\n\u001b[0m",
      "\u001b[0;31mNameError\u001b[0m: name 'data' is not defined"
     ]
    },
    {
     "data": {
      "image/png": "[encoded data removed]",
      "text/plain": [
       "<matplotlib.figure.Figure at 0xd7aaa90>"
      ]
     },
     "metadata": {},
     "output_type": "display_data"
    }
   ],
   "source": [
    "# Simple Apply example \n",
    "\n",
    "names = pd.Series([\n",
    "    'Andre Agassi',\n",
    "    'Barry Bonds',\n",
    "    'Christopher Columbus'])\n",
    "\n",
    "def reverse_names(names):                         # Creating the reverse function and applying to each row\n",
    "    return (names.split()[1],names.split()[0])\n",
    "\n",
    "names.apply(reverse_names)\n",
    "\n",
    "# Creating Histograms -              You can create similar visuals for arrays/series using pyplot and same commands hist() etc \n",
    "import matplotlib.pyplot as plt     #as with a python list\n",
    "% matplotlib inline\n",
    "plt.hist(np.array(range(10)))\n",
    "\n",
    "#data.plot() # Gives a line plot for a series with index as x axis inbuilt functionality in pandas not there for lists"
   ]
  },
  {
   "cell_type": "markdown",
   "metadata": {},
   "source": [
    "SCIPY"
   ]
  },
  {
   "cell_type": "code",
   "execution_count": 253,
   "metadata": {},
   "outputs": [
    {
     "data": {
      "text/plain": [
       "Text(0.5,1,u'Scipy Optimization')"
      ]
     },
     "execution_count": 253,
     "metadata": {},
     "output_type": "execute_result"
    },
    {
     "data": {
      "image/png": "[encoded data removed]",
      "text/plain": [
       "<matplotlib.figure.Figure at 0xf670e80>"
      ]
     },
     "metadata": {},
     "output_type": "display_data"
    }
   ],
   "source": [
    "#Quick example on how to use Scipy\n",
    "\n",
    "import numpy as np\n",
    "from scipy import special, optimize\n",
    "\n",
    "# Creating a random function using scipys special library\n",
    "f = lambda x: -special.jv(3, x)\n",
    "\n",
    "# Using sublibrary optimize to find the solution\n",
    "sol = optimize.minimize(f, 1.0)\n",
    "x = np.linspace(0,10,5000)\n",
    "\n",
    "# Using matplotlib to plot the curve of function showing optimized solution\n",
    "plt.plot(x, -special.jv(3, x),'-', sol.x, sol.fun, 'o')\n",
    "plt.title(\"Scipy Optimization\")"
   ]
  },
  {
   "cell_type": "markdown",
   "metadata": {},
   "source": [
    "2 - D DATA ANALYSIS USING NUMPY-PANDAS"
   ]
  },
  {
   "cell_type": "code",
   "execution_count": 214,
   "metadata": {
    "scrolled": false
   },
   "outputs": [
    {
     "data": {
      "text/plain": [
       "4388333"
      ]
     },
     "execution_count": 214,
     "metadata": {},
     "output_type": "execute_result"
    }
   ],
   "source": [
    "#os.getcwd()\n",
    "subway_data = pd.read_csv('nyc_subway_weather.csv')\n",
    "#subway_data.head()\n",
    "\n",
    "## Interesting questions to ask - \n",
    "\n",
    "# +ve/-ve correlations between variables and subway ridership\n",
    "# Weather patterns independent of subway ridership over time\n",
    "\n",
    "a = np.array([[1, 2, 3], [4, 5, 6], [7, 8, 9]])  #List of list creates a 2-D array\n",
    "\n",
    "# Picking up a element in a arrays :\n",
    "\n",
    "a[1,2]    # ie array[i,j]\n",
    "\n",
    "# Note - Its diferent from picking up a elemnt from a DF \n",
    "\n",
    "subway_data.iloc[1].iloc[3]"
   ]
  },
  {
   "cell_type": "markdown",
   "metadata": {},
   "source": [
    "Numpy Element Selection Exerscise"
   ]
  },
  {
   "cell_type": "code",
   "execution_count": 239,
   "metadata": {},
   "outputs": [
    {
     "data": {
      "text/plain": [
       "2342.5999999999999"
      ]
     },
     "execution_count": 239,
     "metadata": {},
     "output_type": "execute_result"
    }
   ],
   "source": [
    "ridership = np.array([                # X - Days , Y - Stations\n",
    "    [   0,    0,    2,    5,    0],\n",
    "    [1478, 3877, 3674, 2328, 2539],\n",
    "    [1613, 4088, 3991, 6461, 2691],\n",
    "    [1560, 3392, 3826, 4787, 2613],\n",
    "    [1608, 4802, 3932, 4477, 2705],\n",
    "    [1576, 3933, 3909, 4979, 2685],\n",
    "    [  95,  229,  255,  496,  201],\n",
    "    [   2,    0,    1,   27,    0],\n",
    "    [1438, 3785, 3589, 4174, 2215],\n",
    "    [1342, 4043, 4009, 4665, 3033]\n",
    "])\n",
    "\n",
    "# Accessing elements\n",
    "if False:\n",
    "    print ridership[1, 3]\n",
    "    print ridership[1:3, 3:5]\n",
    "    print ridership[1, :]\n",
    "    \n",
    "# Vectorized operations on rows or columns\n",
    "if False:\n",
    "    print ridership[0, :] + ridership[1, :]\n",
    "    print ridership[:, 0] + ridership[:, 1]\n",
    "    \n",
    "def mean_riders_for_max_station(ridership):    # Return the mean of the overall array and the station with max ridership on day 1\n",
    "\n",
    "    frst_day_with_max = ridership[0,:].argmax()\n",
    "    mean_riders = ridership[:,frst_day_with_max].mean()\n",
    "\n",
    "    overall_mean = ridership.mean() \n",
    "    mean_for_max = mean_riders \n",
    "\n",
    "    return (overall_mean, mean_for_max)\n",
    "\n",
    "mean_riders_for_max_station(ridership)\n",
    "\n",
    "ridership.mean()"
   ]
  },
  {
   "cell_type": "markdown",
   "metadata": {},
   "source": [
    "Moving to Data Frames"
   ]
  },
  {
   "cell_type": "code",
   "execution_count": 240,
   "metadata": {},
   "outputs": [
    {
     "name": "stdout",
     "output_type": "stream",
     "text": [
      "   A  B\n",
      "0  0  3\n",
      "1  1  4\n",
      "2  2  5\n",
      "   A  B  C\n",
      "0  0  1  2\n",
      "1  3  4  5\n"
     ]
    }
   ],
   "source": [
    "# Checking data type of a element in a array/series not present in list\n",
    "b = np.array([1,'Hi'])\n",
    "b.dtype\n",
    "\n",
    "# Problem with 2D arrays - everything in a array will have the same data type while in a DF you can have series with diff types \n",
    "# of columns \n",
    "# Also a DF has index values for each column and each row while a 2D array does not\n",
    "\n",
    "\n",
    "\n",
    "##### DataFrame creation\n",
    "if True:\n",
    "    # You can create a DataFrame out of a dictionary mapping column names to keys\n",
    "    df_1 = pd.DataFrame({'A': [0, 1, 2], 'B': [3, 4, 5]})\n",
    "    print df_1\n",
    "\n",
    "    # You can also use a list of lists or a 2D NumPy array\n",
    "    df_2 = pd.DataFrame([[0, 1, 2], [3, 4, 5]], columns=['A', 'B', 'C'])\n",
    "    print df_2\n",
    "   "
   ]
  },
  {
   "cell_type": "code",
   "execution_count": 247,
   "metadata": {},
   "outputs": [
    {
     "name": "stdout",
     "output_type": "stream",
     "text": [
      "0.0356485157722\n",
      "-0.0266933483216\n",
      "-0.229034323408\n",
      "0.585895470766\n"
     ]
    }
   ],
   "source": [
    "# Calculating the pearson correlation coffecient for 2 DF columns\n",
    "\n",
    "def correlation(x, y):\n",
    "    '''\n",
    "    Fill in this function to compute the correlation between the two\n",
    "    input variables. Each input is either a NumPy array or a Pandas\n",
    "    Series.\n",
    "    correlation = average of (x in standard units) times (y in standard units)\n",
    "    Remember to pass the argument \"ddof=0\" to the Pandas std() function!\n",
    "    '''\n",
    "    \n",
    "    std_f = lambda x: (x- x.mean())/x.std(ddof = 0)\n",
    "    \n",
    "    return (std_f(y)*std_f(x)).mean()\n",
    "\n",
    "\n",
    "\n",
    "entries = subway_data['ENTRIESn_hourly']\n",
    "cum_entries = subway_data['ENTRIESn']\n",
    "rain = subway_data['meanprecipi']\n",
    "temp = subway_data['meantempi']\n",
    "\n",
    "print correlation(entries, rain)\n",
    "print correlation(entries, temp)\n",
    "print correlation(rain, temp)\n",
    "print correlation(entries, cum_entries)"
   ]
  },
  {
   "cell_type": "code",
   "execution_count": 415,
   "metadata": {},
   "outputs": [
    {
     "name": "stdout",
     "output_type": "stream",
     "text": [
      "    ENTRIESn     EXITSn\n",
      "0  3144312.0  1088151.0\n",
      "1       23.0        8.0\n",
      "2       18.0       18.0\n",
      "3       71.0       54.0\n",
      "4      170.0       44.0\n",
      "5      214.0       42.0\n",
      "6       87.0       11.0\n",
      "7       10.0        3.0\n",
      "8       36.0       89.0\n",
      "9      153.0      333.0\n"
     ]
    }
   ],
   "source": [
    "# IMPORTANT - GETTING INDIVIDUAL VALUES FROM RUNNING TOTALS \n",
    "\n",
    "# Cumulative entries and exits for one station for a few hours.\n",
    "entries_and_exits = pd.DataFrame({\n",
    "    'ENTRIESn': [3144312, 3144335, 3144353, 3144424, 3144594,\n",
    "                 3144808, 3144895, 3144905, 3144941, 3145094],\n",
    "    'EXITSn': [1088151, 1088159, 1088177, 1088231, 1088275,\n",
    "               1088317, 1088328, 1088331, 1088420, 1088753]\n",
    "})\n",
    "\n",
    "def get_hourly_entries_and_exits(entries_and_exits):\n",
    "    '''\n",
    "    Fill in this function to take a DataFrame with cumulative entries\n",
    "    and exits (entries in the first column, exits in the second) and\n",
    "    return a DataFrame with hourly entries and exits (entries in the\n",
    "    first column, exits in the second).\n",
    "    '''\n",
    "    def cumm_diff(col):\n",
    "        col_shift_down = col.shift(1)     # Using shift function here which shifts all values in a column/series down by 1\n",
    "        cumm_diff = col - col_shift_down  # and curtails the last value\n",
    "        cumm_diff.iloc[0] = col.iloc[0]\n",
    "        return cumm_diff\n",
    "    \n",
    "    return entries_and_exits.apply(cumm_diff)\n",
    "    \n",
    "print get_hourly_entries_and_exits(entries_and_exits)"
   ]
  },
  {
   "cell_type": "code",
   "execution_count": 256,
   "metadata": {},
   "outputs": [
    {
     "name": "stdout",
     "output_type": "stream",
     "text": [
      "   a   b   c\n",
      "0  2  11   6\n",
      "1  3  21  11\n",
      "2  4  31  16\n",
      "Andre      F\n",
      "Barry      B\n",
      "Chris      C\n",
      "Dan        C\n",
      "Emilio     B\n",
      "Fred       C\n",
      "Greta      A\n",
      "Humbert    D\n",
      "Ivan       A\n",
      "James      B\n",
      "Name: exam1, dtype: category\n",
      "Categories (5, object): [F < D < C < B < A]\n",
      "        exam1 exam2\n",
      "Andre       F     F\n",
      "Barry       B     B\n",
      "Chris       C     C\n",
      "Dan         C     C\n",
      "Emilio      B     B\n",
      "Fred        C     C\n",
      "Greta       A     A\n",
      "Humbert     D     D\n",
      "Ivan        A     A\n",
      "James       B     B\n"
     ]
    }
   ],
   "source": [
    "# Applying non standard functions to a Pandas DF\n",
    "# APPLYMAP - Applies to each element of a DF the function\n",
    "\n",
    "df = pd.DataFrame({\n",
    "        'a': [1, 2, 3],\n",
    "        'b': [10, 20, 30],\n",
    "        'c': [5, 10, 15]\n",
    "    })\n",
    "    \n",
    "def add_one(x):\n",
    "    return x + 1\n",
    "        \n",
    "print df.applymap(add_one)  \n",
    "\n",
    "# APPLY - Applies to a column of a DataFrame you can also provide the axis\n",
    "\n",
    "grades_df = pd.DataFrame(\n",
    "    data={'exam1': [43, 81, 78, 75, 89, 70, 91, 65, 98, 87],\n",
    "          'exam2': [24, 63, 56, 56, 67, 51, 79, 46, 72, 60]},\n",
    "    index=['Andre', 'Barry', 'Chris', 'Dan', 'Emilio', \n",
    "           'Fred', 'Greta', 'Humbert', 'Ivan', 'James']\n",
    ")\n",
    "\n",
    "# CASE - 1 RETURNING A DF WHEN APPLYING APPLY TO A DF\n",
    "\n",
    "def convert_grades_curve(exam_grades):    # When apply is used the function will always take in a series as input\n",
    "    # Pandas has a bult-in function that will perform this calculation\n",
    "    # This will give the bottom 0% to 10% of students the grade 'F',\n",
    "    # 10% to 20% the grade 'D', and so on. You can read more about\n",
    "    # the qcut() function here:\n",
    "    # http://pandas.pydata.org/pandas-docs/stable/generated/pandas.qcut.html\n",
    "    return pd.qcut(exam_grades,\n",
    "                   [0, 0.1, 0.2, 0.5, 0.8, 1],\n",
    "                   labels=['F', 'D', 'C', 'B', 'A'])\n",
    "    \n",
    "    \n",
    "print convert_grades_curve(grades_df['exam1'])\n",
    "    \n",
    "print grades_df.apply(convert_grades_curve)  # Using apply here for each column\n",
    "\n",
    "\n",
    "# CASE - 2 RETURNING A SERIES WHEN APPLYING APPLY TO A DF\n",
    "\n",
    "df = pd.DataFrame({\n",
    "    'a': [4, 5, 3, 1, 2],\n",
    "    'b': [20, 10, 40, 50, 30],\n",
    "    'c': [25, 20, 5, 15, 10]\n",
    "})\n",
    "\n",
    "def second_largest(df):\n",
    "    '''\n",
    "    Fill in this function to return the second-largest value of each \n",
    "    column of the input DataFrame.\n",
    "    '''\n",
    "    def sec_larg_series(s1):\n",
    "        return s1.sort_values(ascending = False).iloc[1]      #n_largest() could also be used its a series function\n",
    "        \n",
    "    return df.apply(sec_larg_series)\n",
    "    \n",
    "\n",
    "print second_largest(df)"
   ]
  },
  {
   "cell_type": "markdown",
   "metadata": {},
   "source": [
    "Adding Pandas Series to a DataFrame"
   ]
  },
  {
   "cell_type": "code",
   "execution_count": 280,
   "metadata": {},
   "outputs": [
    {
     "data": {
      "text/html": [
       "<div>\n",
       "<table border=\"1\" class=\"dataframe\">\n",
       "  <thead>\n",
       "    <tr style=\"text-align: right;\">\n",
       "      <th></th>\n",
       "      <th>exam1</th>\n",
       "      <th>exam2</th>\n",
       "    </tr>\n",
       "  </thead>\n",
       "  <tbody>\n",
       "    <tr>\n",
       "      <th>Andre</th>\n",
       "      <td>0.707107</td>\n",
       "      <td>-0.707107</td>\n",
       "    </tr>\n",
       "    <tr>\n",
       "      <th>Barry</th>\n",
       "      <td>0.707107</td>\n",
       "      <td>-0.707107</td>\n",
       "    </tr>\n",
       "    <tr>\n",
       "      <th>Chris</th>\n",
       "      <td>0.707107</td>\n",
       "      <td>-0.707107</td>\n",
       "    </tr>\n",
       "    <tr>\n",
       "      <th>Dan</th>\n",
       "      <td>0.707107</td>\n",
       "      <td>-0.707107</td>\n",
       "    </tr>\n",
       "    <tr>\n",
       "      <th>Emilio</th>\n",
       "      <td>0.707107</td>\n",
       "      <td>-0.707107</td>\n",
       "    </tr>\n",
       "    <tr>\n",
       "      <th>Fred</th>\n",
       "      <td>0.707107</td>\n",
       "      <td>-0.707107</td>\n",
       "    </tr>\n",
       "    <tr>\n",
       "      <th>Greta</th>\n",
       "      <td>0.707107</td>\n",
       "      <td>-0.707107</td>\n",
       "    </tr>\n",
       "    <tr>\n",
       "      <th>Humbert</th>\n",
       "      <td>0.707107</td>\n",
       "      <td>-0.707107</td>\n",
       "    </tr>\n",
       "    <tr>\n",
       "      <th>Ivan</th>\n",
       "      <td>0.707107</td>\n",
       "      <td>-0.707107</td>\n",
       "    </tr>\n",
       "    <tr>\n",
       "      <th>James</th>\n",
       "      <td>0.707107</td>\n",
       "      <td>-0.707107</td>\n",
       "    </tr>\n",
       "  </tbody>\n",
       "</table>\n",
       "</div>"
      ],
      "text/plain": [
       "            exam1     exam2\n",
       "Andre    0.707107 -0.707107\n",
       "Barry    0.707107 -0.707107\n",
       "Chris    0.707107 -0.707107\n",
       "Dan      0.707107 -0.707107\n",
       "Emilio   0.707107 -0.707107\n",
       "Fred     0.707107 -0.707107\n",
       "Greta    0.707107 -0.707107\n",
       "Humbert  0.707107 -0.707107\n",
       "Ivan     0.707107 -0.707107\n",
       "James    0.707107 -0.707107"
      ]
     },
     "execution_count": 280,
     "metadata": {},
     "output_type": "execute_result"
    }
   ],
   "source": [
    "grades_df = pd.DataFrame(\n",
    "    data={'exam1': [43, 81, 78, 75, 89, 70, 91, 65, 98, 87],\n",
    "          'exam2': [24, 63, 56, 56, 67, 51, 79, 46, 72, 60]},\n",
    "    index=['Andre', 'Barry', 'Chris', 'Dan', 'Emilio', \n",
    "           'Fred', 'Greta', 'Humbert', 'Ivan', 'James']\n",
    ")\n",
    "\n",
    "def standardize(df):\n",
    "    '''\n",
    "    Fill in this function to standardize each column of the given\n",
    "    DataFrame. To standardize a variable, convert each value to the\n",
    "    number of standard deviations it is above or below the mean.\n",
    "    \n",
    "    This time, try to use vectorized operations instead of apply().\n",
    "    You should get the same results as you did before.\n",
    "    ''' \n",
    "        \n",
    "    return (df - df.mean())/df.std()                      # VERY IMPORTANT FUNCTION LOOK AT IT CAREFULLY\n",
    "    \n",
    "standardize(grades_df)\n",
    "\n",
    "def standardize_along_rows(df):\n",
    "    \n",
    "    value_sub_mean_along_row = df.sub(df.mean(axis = 'columns'), axis = 'index')  # HERE AXIS = INDEX AS WE ARE ADDING THE INDEX OF THE SERIES\n",
    "    standrdize_along_row = value_sub_mean_along_row.div(df.std(axis =  'columns'), axis = 'index') #ALONG THE INDEX OF THE DF\n",
    "     \n",
    "    return standrdize_along_row\n",
    "\n",
    "standardize_along_rows(grades_df)\n",
    "\n",
    "# WE could have done this using apply but the vectorized version of using the DF and series operations is much shorter and faster"
   ]
  },
  {
   "cell_type": "code",
   "execution_count": 282,
   "metadata": {},
   "outputs": [
    {
     "name": "stdout",
     "output_type": "stream",
     "text": [
      "{False: ['a', 'b', 'e'], True: ['c', 'd', 'f', 'g']}\n",
      "{(True, False): ['c'], (False, False): ['a', 'b', 'e'], (True, True): ['d', 'f', 'g']}\n"
     ]
    }
   ],
   "source": [
    "# GROUP BY - \n",
    "\n",
    "values = np.array([1, 3, 2, 4, 1, 6, 4]) \n",
    "example_df = pd.DataFrame({                      # Interesting way of making a DF using a dict of arrays\n",
    "    'value': values,\n",
    "    'even': values % 2 == 0,\n",
    "    'above_three': values > 3 \n",
    "}, index=['a', 'b', 'c', 'd', 'e', 'f', 'g'])\n",
    "\n",
    "# Change False to True for each block of code to see what it does\n",
    "\n",
    "# Examine DataFrame\n",
    "if False:\n",
    "    print example_df\n",
    "    \n",
    "# Examine groups\n",
    "if True:\n",
    "    grouped_data = example_df.groupby('even')                       # Interesting to look at groups here you can use apply to \n",
    "    # The groups attribute is a dictionary mapping keys to lists of row indexes    #apply your custom functions to groups\n",
    "    print grouped_data.groups\n",
    "    \n",
    "# Group by multiple columns\n",
    "if True:\n",
    "    grouped_data = example_df.groupby(['even', 'above_three'])\n",
    "    print grouped_data.groups"
   ]
  },
  {
   "cell_type": "code",
   "execution_count": 144,
   "metadata": {},
   "outputs": [
    {
     "name": "stdout",
     "output_type": "stream",
     "text": [
      "    ENTRIESn      EXITSn  UNIT\n",
      "0  3144312.0   1088151.0  R051\n",
      "1  8936644.0  13755385.0  R079\n",
      "2       23.0         8.0  R051\n",
      "3       14.0         8.0  R079\n",
      "4       18.0        18.0  R051\n",
      "5       29.0       205.0  R079\n",
      "6       71.0        54.0  R051\n",
      "7      132.0       593.0  R079\n",
      "8      170.0        44.0  R051\n"
     ]
    }
   ],
   "source": [
    "# Using apply with Group by to calculate the monthly Entry and exit time from the cumilative total\n",
    "import pandas as pd\n",
    "ridership_df = pd.DataFrame({\n",
    "    'UNIT': ['R051', 'R079', 'R051', 'R079', 'R051', 'R079', 'R051', 'R079', 'R051'],\n",
    "    'TIMEn': ['00:00:00', '02:00:00', '04:00:00', '06:00:00', '08:00:00', '10:00:00', '12:00:00', '14:00:00', '16:00:00'],\n",
    "    'ENTRIESn': [3144312, 8936644, 3144335, 8936658, 3144353, 8936687, 3144424, 8936819, 3144594],\n",
    "    'EXITSn': [1088151, 13755385,  1088159, 13755393,  1088177, 13755598, 1088231, 13756191,  1088275]\n",
    "})\n",
    "\n",
    "def get_hourly_entries_and_exits(entries_and_exits):\n",
    "    '''\n",
    "    Fill in this function to take a DataFrame with cumulative entries\n",
    "    and exits and return a DataFrame with hourly entries and exits.\n",
    "    The hourly entries and exits should be calculated separately for\n",
    "    each station (the 'UNIT' column).\n",
    "    \n",
    "    Hint: Take a look at the `get_hourly_entries_and_exits()` function\n",
    "    you wrote in a previous quiz, DataFrame Vectorized Operations. If\n",
    "    you copy it here and rename it, you can use it and the `.apply()`\n",
    "    function to help solve this problem.\n",
    "    '''\n",
    "    def cumm_diff(col):\n",
    "        col_shift_down = col.shift(1)     # Using shift function here which shifts all values in a column/series down by 1\n",
    "        cumm_diff = col - col_shift_down  # and curtails the last value\n",
    "        cumm_diff.iloc[0] = col.iloc[0]\n",
    "        return cumm_diff\n",
    "    \n",
    "    transf_rows = entries_and_exits.iloc[:,0:2].apply(cumm_diff)\n",
    "    return pd.concat([transf_rows,entries_and_exits.iloc[:,2]],axis = 1)\n",
    "     \n",
    "    \n",
    "print ridership_df.groupby('UNIT')[['ENTRIESn','EXITSn','UNIT']].apply(get_hourly_entries_and_exits)\n",
    "\n",
    "# Group by doucumentation - https://pandas.pydata.org/pandas-docs/stable/groupby.html\n",
    "\n",
    "# Printing groups to get a feel of the structure of a group by object: \n",
    "\n",
    "if False:\n",
    "    for name, group in ridership_df.groupby('UNIT')[['ENTRIESn','EXITSn']]:\n",
    "        print name\n",
    "        print group\n",
    "\n",
    "# Looking at how the group references are stored in a dictionary format:\n",
    "if False:\n",
    "    ridership_df[['ENTRIESn','EXITSn','UNIT']].groupby('UNIT').groups\n"
   ]
  },
  {
   "cell_type": "code",
   "execution_count": null,
   "metadata": {
    "collapsed": true
   },
   "outputs": [],
   "source": [
    "# Merging rows horizontally - pd.concat([df1,df2],axis = 1)  One below other the default axis = 0\n",
    "\n",
    "pd.concat([ridership_df.iloc[:,0:2],ridership_df.iloc[:,2]],axis = 1)\n",
    "\n",
    "# For doing SQL style joins use : - \n",
    "\n",
    "#df1.merge( df2,on=['',''],how='' )"
   ]
  },
  {
   "cell_type": "code",
   "execution_count": 422,
   "metadata": {},
   "outputs": [
    {
     "data": {
      "text/plain": [
       "<matplotlib.collections.PathCollection at 0xb0bf0b8>"
      ]
     },
     "execution_count": 422,
     "metadata": {},
     "output_type": "execute_result"
    },
    {
     "data": {
      "image/png": "[encoded data removed]",
      "text/plain": [
       "<matplotlib.figure.Figure at 0xaf05c88>"
      ]
     },
     "metadata": {},
     "output_type": "display_data"
    }
   ],
   "source": [
    "# Doing a simple bubble scatter plot\n",
    "\n",
    "subway_df_bubble = subway_data[['latitude','longitude','UNIT']].groupby(['latitude','longitude'],as_index = False).count()\n",
    "\n",
    "plt.scatter(subway_df_bubble['latitude'],subway_df_bubble['longitude'], s=subway_df_bubble['UNIT'],\n",
    "            marker='o', c=subway_df_bubble['UNIT'])\n"
   ]
  },
  {
   "cell_type": "code",
   "execution_count": 59,
   "metadata": {},
   "outputs": [
    {
     "name": "stdout",
     "output_type": "stream",
     "text": [
      "[1, 2, 3] [4, 5, 6]\n",
      "[]\n"
     ]
    }
   ],
   "source": [
    "# Dropping rows/ columns - \n",
    "s1 = ridership_df.drop([1],axis = 'index')   # As we are dropping a row so axis has to be index or 0 Also [1] works because 1 is in\n",
    "                                             # the row index if we try to del by col no 1 wont work as 1 is not the col name\n",
    "                                             # so use list(df.columns)[1] instead\n",
    "    # Subsetting based on value in a column      \n",
    "s1[s1.EXITSn!=222]    # s1.EXITSn!=222 returns a series of True and False !\n",
    "\n",
    "s2 = s1.loc[s1.EXITSn.isin(s1.iloc[:,1])]"
   ]
  },
  {
   "cell_type": "code",
   "execution_count": 115,
   "metadata": {},
   "outputs": [
    {
     "data": {
      "text/plain": [
       "0    1\n",
       "2    1\n",
       "3    1\n",
       "4    1\n",
       "5    1\n",
       "6    1\n",
       "7    1\n",
       "8    1\n",
       "Name: EXITSn, dtype: int64"
      ]
     },
     "execution_count": 115,
     "metadata": {},
     "output_type": "execute_result"
    }
   ],
   "source": [
    "# Get the no fo unique values in all columns of a pandas df\n",
    "s1.apply(pd.Series.nunique)\n",
    "\n",
    "# for i in s1.columns:\n",
    "#     print s1[i].nunique()"
   ]
  },
  {
   "cell_type": "code",
   "execution_count": 470,
   "metadata": {},
   "outputs": [
    {
     "data": {
      "text/plain": [
       "1"
      ]
     },
     "execution_count": 470,
     "metadata": {},
     "output_type": "execute_result"
    }
   ],
   "source": [
    "a = '12-12-13'\n",
    "b,c,d = map(int, a.split('-'))   # List allocation feature - a,b = [1,2]  => a = 1, b = 2\n",
    "d,c = [1,2]\n",
    "d"
   ]
  },
  {
   "cell_type": "markdown",
   "metadata": {},
   "source": [
    "ADDITIONAL PANDAS INTERESTING STUFF"
   ]
  },
  {
   "cell_type": "code",
   "execution_count": 33,
   "metadata": {},
   "outputs": [
    {
     "ename": "NameError",
     "evalue": "name 'StringIO' is not defined",
     "output_type": "error",
     "traceback": [
      "\u001b[1;31m---------------------------------------------------------------------------\u001b[0m",
      "\u001b[1;31mNameError\u001b[0m                                 Traceback (most recent call last)",
      "\u001b[1;32m<ipython-input-33-f4b086d2b56d>\u001b[0m in \u001b[0;36m<module>\u001b[1;34m()\u001b[0m\n\u001b[0;32m      2\u001b[0m \u001b[1;33m\u001b[0m\u001b[0m\n\u001b[0;32m      3\u001b[0m \u001b[0mparser\u001b[0m \u001b[1;33m=\u001b[0m \u001b[1;32mlambda\u001b[0m \u001b[0mdate\u001b[0m\u001b[1;33m:\u001b[0m \u001b[0mpd\u001b[0m\u001b[1;33m.\u001b[0m\u001b[0mdatetime\u001b[0m\u001b[1;33m.\u001b[0m\u001b[0mstrptime\u001b[0m\u001b[1;33m(\u001b[0m\u001b[0mdate\u001b[0m\u001b[1;33m,\u001b[0m \u001b[1;34m'%d%b%Y'\u001b[0m\u001b[1;33m)\u001b[0m\u001b[1;33m\u001b[0m\u001b[0m\n\u001b[1;32m----> 4\u001b[1;33m \u001b[0mpd\u001b[0m\u001b[1;33m.\u001b[0m\u001b[0mread_csv\u001b[0m\u001b[1;33m(\u001b[0m\u001b[0mStringIO\u001b[0m\u001b[1;33m(\u001b[0m\u001b[0ms\u001b[0m\u001b[1;33m)\u001b[0m\u001b[1;33m,\u001b[0m \u001b[0mparse_dates\u001b[0m\u001b[1;33m=\u001b[0m\u001b[1;33m[\u001b[0m\u001b[1;36m0\u001b[0m\u001b[1;33m]\u001b[0m\u001b[1;33m,\u001b[0m \u001b[0mdate_parser\u001b[0m\u001b[1;33m=\u001b[0m\u001b[0mparser\u001b[0m\u001b[1;33m)\u001b[0m\u001b[1;33m\u001b[0m\u001b[0m\n\u001b[0m\u001b[0;32m      5\u001b[0m \u001b[1;33m\u001b[0m\u001b[0m\n\u001b[0;32m      6\u001b[0m \u001b[1;31m# Zip function for creating a iterator over multiple lists and concatinating them element wise\u001b[0m\u001b[1;33m\u001b[0m\u001b[1;33m\u001b[0m\u001b[0m\n",
      "\u001b[1;31mNameError\u001b[0m: name 'StringIO' is not defined"
     ]
    }
   ],
   "source": [
    "# READING CSV IN PANDAS\n",
    "\n",
    "# Using a custom parser function to parse dates in python while importing them\n",
    "\n",
    "parser = lambda date: pd.datetime.strptime(date,'%d%b%Y')\n",
    "pd.read_csv(StringIO(s), parse_dates=[0], date_parser=parser)\n",
    "\n",
    "# Running into memory error when importing a file\n",
    "# Specify chunk size to import the files in chunks and then join the chunks together using pd.concat.\n",
    "# Also specify dtype for all columns in advance as that frees considerable memory \n",
    "tp  = pd.read_csv('capture2.csv', iterator=True, chunksize=10000, \n",
    "                  dtype={'timestamp': float, 'vdd_io_soc_i': float, 'vdd_io_soc_v': float,  'vdd_io_plat_i': float, 'vdd_io_plat_v': float, 'vdd_ext_flash_i': float,   'vdd_ext_flash_v': float,   'vsys_i vsys_v': float, 'vdd_aon_dig_i': float, 'vdd_aon_dig_v': float, 'vdd_soc_1v8_i': float, 'vdd_soc_1v8_v': float})\n",
    "\n",
    "df = pd.concat(tp,ignore_index=True)\n",
    "\n",
    "# Zip function for creating a iterator over multiple lists and concatinating them element wise\n",
    "\n",
    "a1 = [1,2,3]\n",
    "a2 = [4,5,6]\n",
    "f1 = zip(a1,a2)\n",
    "f2 = list(f1)\n",
    "c,v = zip(*f2)\n",
    "print c,v\n",
    "\n",
    "# Alternate non *zip approach\n",
    "c,v = [],[]\n",
    "for i in f2:\n",
    "    c.append(i[0])\n",
    "    v.append(i[1])\n",
    "    \n",
    "print c,v"
   ]
  },
  {
   "cell_type": "code",
   "execution_count": 126,
   "metadata": {},
   "outputs": [
    {
     "data": {
      "text/plain": [
       "2    1088159\n",
       "4    1088177\n",
       "Name: EXITSn, dtype: int64"
      ]
     },
     "execution_count": 126,
     "metadata": {},
     "output_type": "execute_result"
    }
   ],
   "source": [
    "# Using if in Lambda and creating output(binary) variable \n",
    "\n",
    "(~pd.isnull(s1.iloc[:,1])).astype(int)  # Wherever the variable value is non 0 returns 1 and otherwise 0\n",
    "\n",
    "# Same thing using lambda function\n",
    "s1.iloc[:,1].apply(lambda x:1 if x >0 else 0) # Important if syntax for lambda\n",
    "\n",
    "# General syntax if you have more than 1 if \n",
    "# a = \"neg\" if b<0 else \"pos\" if b>0 else \"zero\"\n",
    "\n",
    "s1.shape\n"
   ]
  },
  {
   "cell_type": "code",
   "execution_count": 177,
   "metadata": {},
   "outputs": [
    {
     "name": "stdout",
     "output_type": "stream",
     "text": [
      "     EXITSn     TIMEn  UNIT\n",
      "0   1088151  00:00:00  R051\n",
      "2   1088159  04:00:00  R051\n",
      "4   1088177  08:00:00  R051\n",
      "6   1088231  12:00:00  R051\n",
      "8   1088275  16:00:00  R051\n",
      "1  13755385  02:00:00  R079\n",
      "3  13755393  06:00:00  R079\n",
      "5  13755598  10:00:00  R079\n",
      "7  13756191  14:00:00  R079\n",
      "[1, 3, 4, 4]\n"
     ]
    }
   ],
   "source": [
    "# Role of inplace - Setting Inplace = True does not create a copy of the DF and returns none. It makes\n",
    "# changes to the orignal data frame. For ex as shown in the sort and delete commands belows. \n",
    "# Note : By default inplace = 'False' is set in these pandas functions.\n",
    "\n",
    "import copy\n",
    "r1 = copy.deepcopy(ridership_df)           \n",
    "r1.drop(['ENTRIESn'],axis = 1,inplace = True)          # Defualt is axis = 0\n",
    "r1.sort_values(by=['EXITSn'],axis = 0,inplace = True)  # Default is axis = 0\n",
    "print r1\n",
    "\n",
    "#You can also add a element to a list by using '+' and reassigning instead of using .append()\n",
    "a =[1,3,4]\n",
    "a = a + [4]\n",
    "print a"
   ]
  },
  {
   "cell_type": "code",
   "execution_count": 192,
   "metadata": {},
   "outputs": [
    {
     "name": "stdout",
     "output_type": "stream",
     "text": [
      "[[0]\n",
      " [1]\n",
      " [2]\n",
      " [3]\n",
      " [4]\n",
      " [5]\n",
      " [6]\n",
      " [7]\n",
      " [8]\n",
      " [9]]\n",
      "[0 1 2 3 4 5 6 7 8 9]\n"
     ]
    },
    {
     "data": {
      "text/plain": [
       "(10L,)"
      ]
     },
     "execution_count": 192,
     "metadata": {},
     "output_type": "execute_result"
    }
   ],
   "source": [
    "# 1-D array vs a column vector\n",
    "\n",
    "import numpy as np\n",
    "a = np.array(range(10)).reshape(-1,1) # (-1,1) creates a column vector !\n",
    "print a                               # a is a column vector here as it has 1 column and 10 rows \n",
    "b = a.reshape(10,)                    # Interesting to see (10,) creates a 1-D vector         \n",
    "print b                               # b is a 1-d array or a row vector as it has 1 row and dimension is also 1"
   ]
  },
  {
   "cell_type": "code",
   "execution_count": 213,
   "metadata": {},
   "outputs": [
    {
     "data": {
      "text/html": [
       "<div>\n",
       "<style>\n",
       "    .dataframe thead tr:only-child th {\n",
       "        text-align: right;\n",
       "    }\n",
       "\n",
       "    .dataframe thead th {\n",
       "        text-align: left;\n",
       "    }\n",
       "\n",
       "    .dataframe tbody tr th {\n",
       "        vertical-align: top;\n",
       "    }\n",
       "</style>\n",
       "<table border=\"1\" class=\"dataframe\">\n",
       "  <thead>\n",
       "    <tr style=\"text-align: right;\">\n",
       "      <th></th>\n",
       "      <th>UNIT</th>\n",
       "      <th>EXITSn</th>\n",
       "    </tr>\n",
       "  </thead>\n",
       "  <tbody>\n",
       "    <tr>\n",
       "      <th>0</th>\n",
       "      <td>R051</td>\n",
       "      <td>5440993</td>\n",
       "    </tr>\n",
       "    <tr>\n",
       "      <th>1</th>\n",
       "      <td>R079</td>\n",
       "      <td>55022567</td>\n",
       "    </tr>\n",
       "  </tbody>\n",
       "</table>\n",
       "</div>"
      ],
      "text/plain": [
       "   UNIT    EXITSn\n",
       "0  R051   5440993\n",
       "1  R079  55022567"
      ]
     },
     "execution_count": 213,
     "metadata": {},
     "output_type": "execute_result"
    }
   ],
   "source": [
    "# Interesting group by functions \n",
    "\n",
    "r2 = r1.groupby('UNIT')['EXITSn'].transform(sum)  #Transform make sures you return as many rows in the \n",
    "# print r2                                        # dataset as pre group by so sum value would be repeted\n",
    "# print r1                                        # for all the rows with the same sum\n",
    "\n",
    "\n",
    "r3 = r1.groupby('UNIT',as_index = False)['EXITSn'].sum() # By default the as_index = True ie the grouping\n",
    "r3                                   # unit which in this case is 'UNIT' is pushed to index to prevent\n",
    "                                     # that and have 'UNIT' as a column use as_index = False\n",
    "\n",
    "# Another application to subset data using transform \n",
    "\n",
    "# df['MAX_CLAIM_LABEL'] = (df['CLAIM_COUNT'] == \n",
    "#                          df.groupby(['MEMBER_ELIG_CURR_CK'])['CLAIM_COUNT'].transform(max)).astype(int)"
   ]
  },
  {
   "cell_type": "code",
   "execution_count": 241,
   "metadata": {},
   "outputs": [
    {
     "name": "stdout",
     "output_type": "stream",
     "text": [
      "[[ 1 11]\n",
      " [ 2 12]\n",
      " [ 3 13]\n",
      " [ 4 14]]\n",
      "[[ 0.          0.        ]\n",
      " [ 0.33333333  0.33333333]\n",
      " [ 0.66666667  0.66666667]\n",
      " [ 1.          1.        ]]\n"
     ]
    }
   ],
   "source": [
    "# Subsetting data based on conditions on various columns\n",
    "\n",
    "# Test if values in 2 cols are equal\n",
    "\n",
    "r1.loc[r1['EXITSn']!=r1['UNIT'],['EXITSn']]  # Selecting rows where these two cols are not equal and \n",
    "                                             # just the'EXITn' column\n",
    "    \n",
    "r1.iloc[r1.index[3:]].loc[r1['EXITSn']>19 & isinstance(r1['UNIT'],str),'EXITSn']\n",
    "                                             # Subsetting based on both index and some column values\n",
    "    "
   ]
  },
  {
   "cell_type": "code",
   "execution_count": 259,
   "metadata": {},
   "outputs": [
    {
     "data": {
      "text/plain": [
       "(0, 1)"
      ]
     },
     "execution_count": 259,
     "metadata": {},
     "output_type": "execute_result"
    },
    {
     "data": {
      "image/png": "[encoded data removed]",
      "text/plain": [
       "<matplotlib.figure.Figure at 0xeea0898>"
      ]
     },
     "metadata": {},
     "output_type": "display_data"
    }
   ],
   "source": [
    "# Getting a base plot for AUC curve\n",
    "\n",
    "%matplotlib inline\n",
    "import matplotlib.pyplot as plt \n",
    "plt.figure()\n",
    "plt.plot([0,1],[0,1],color='navy',lw=2,linestyle='--')\n",
    "plt.xlim([0,1])\n",
    "plt.ylim([0,1])np.random"
   ]
  },
  {
   "cell_type": "code",
   "execution_count": 303,
   "metadata": {},
   "outputs": [
    {
     "name": "stdout",
     "output_type": "stream",
     "text": [
      "c\n",
      "b\n",
      "2\n",
      "('Sorted list:', [('a', 2), ('u', 3), ('o', 4), ('i', 5), ('e', [1, 3])])\n"
     ]
    }
   ],
   "source": [
    "# Generate a ranndom numpy array\n",
    "import numpy as np\n",
    "np.random.rand(10, 200 * 2).size\n",
    "\n",
    "# Create a dictionary out of a df\n",
    "dict = df.to_dict(orient = 'List')    # You can use various orientation options to create diff combinations\n",
    "for y in dict:                        # of key value pairs # Also this just prints the keys in the dict\n",
    "    print y\n",
    "\n",
    "a = [1,2,3]  \n",
    "\n",
    "import operator                       # Itemgetter creates a itemgetter object which in this case will \n",
    "f = operator.itemgetter(1)            # return the second element of the list a above.\n",
    "print f(a)\n",
    "\n",
    "# Sort a random list/dictionary using sorted function\n",
    "\n",
    "random = [(2, 2), (3, 4), (4, 1), (1, 3)]  \n",
    "pyDict = {'e': [1,3], 'a': 2, 'u': 3, 'o': 4, 'i': 5}\n",
    "# sort list with key\n",
    "sortedList = sorted(pyDict.items(),key = f)   #dict.items() creates a tupple of the dict key and value\n",
    "                                              # and 'f' gets the 2nd item of each tupple by which \n",
    "print('Sorted list:', sortedList)             # now the dictionary is sorted"
   ]
  },
  {
   "cell_type": "code",
   "execution_count": 332,
   "metadata": {},
   "outputs": [
    {
     "name": "stdout",
     "output_type": "stream",
     "text": [
      "[False, True, False, True, False]\n",
      "True\n",
      "Wrong operator & used\n",
      "[False  True False False False]\n"
     ]
    }
   ],
   "source": [
    "# and vs &\n",
    "\n",
    "# What does 'and' do - So a and b checks if 'a' is true or not in a locgical way and then prints 'b' if\n",
    "# a is true else if 'a' is False it prints 'False'. Now how does 'and' check if 'a' is True by eval \n",
    "# the argurment is len(a) > 0\n",
    "\n",
    "mylist1 = [True,  True,  True,  False,  False]\n",
    "mylist2 = [False, True, False,  True, False]  \n",
    "\n",
    "print mylist1 and mylist2   # Prints the value of mylist2 as mylist1 evaluates as True (len >0)\n",
    "\n",
    "print mylist2 and True   # Prints True as it evaluates if mylist2 is True or not (len >0) and then prints \n",
    "                   # the second value after and which is True in this case\n",
    "\n",
    "    \n",
    "try:\n",
    "    mylist2 & True # & raises a error as its not a defined operation for list its a vectorized operation    \n",
    "                   # defined for numpy arrays like + or - \n",
    "    \n",
    "    # This will also raise a error as there is no way to evaluate if a numpy array is true or not \n",
    "    # len >0 is not defined as true for a numpy array hence as there is no true function defined \n",
    "    # for a np array it throws a error\n",
    "    np.array(mylist1) and np.array(mylist2)\n",
    "    \n",
    "except:            \n",
    "    print 'Wrong operator & used'\n",
    "    \n",
    "print np.array(mylist1) & np.array(mylist2)   # This does the vectorized & operation between all elements\n",
    "                                              # of the numpy array.\n",
    "print np.array(mylist1) | np.array(mylist2)   # Does the OR operator"
   ]
  },
  {
   "cell_type": "code",
   "execution_count": 16,
   "metadata": {},
   "outputs": [
    {
     "data": {
      "text/plain": [
       "Andre      10\n",
       "Barry       9\n",
       "Chris       9\n",
       "Dan         9\n",
       "Emilio      9\n",
       "Fred        9\n",
       "Greta       9\n",
       "Humbert     3\n",
       "Ivan        9\n",
       "James       9\n",
       "dtype: int64"
      ]
     },
     "execution_count": 16,
     "metadata": {},
     "output_type": "execute_result"
    }
   ],
   "source": [
    "grades_df = pd.DataFrame(\n",
    "    data={'exam1': [43, 81, 78, 75, 89, 70, 91, 65, 98, 87],\n",
    "          'exam2': [24, 63, 56, 56, 67, 51, 79, 46, 72, 60]},\n",
    "    index=['Andre', 'Barry', 'Chris', 'Dan', 'Emilio', \n",
    "           'Fred', 'Greta', 'Humbert', 'Ivan', 'James']\n",
    ")\n",
    "\n",
    "# How to apply a function\n",
    "grades_df.apply(lambda x:10 if x[1]<30 else 3 if x[1]<50 else 9 ,axis = 1)"
   ]
  },
  {
   "cell_type": "code",
   "execution_count": 22,
   "metadata": {},
   "outputs": [
    {
     "name": "stdout",
     "output_type": "stream",
     "text": [
      "1\n"
     ]
    }
   ],
   "source": [
    "import numpy as np\n",
    "#a = pd.DataFrame(data = [1,2,3] ,columns = ['a','b','c'])\n",
    "data = np.array([1,2,3])\n",
    "print np.array(1)"
   ]
  }
 ],
 "metadata": {
  "kernelspec": {
   "display_name": "Python 2",
   "language": "python",
   "name": "python2"
  },
  "language_info": {
   "codemirror_mode": {
    "name": "ipython",
    "version": 2
   },
   "file_extension": ".py",
   "mimetype": "text/x-python",
   "name": "python",
   "nbconvert_exporter": "python",
   "pygments_lexer": "ipython2",
   "version": "2.7.14"
  }
 },
 "nbformat": 4,
 "nbformat_minor": 1
}
