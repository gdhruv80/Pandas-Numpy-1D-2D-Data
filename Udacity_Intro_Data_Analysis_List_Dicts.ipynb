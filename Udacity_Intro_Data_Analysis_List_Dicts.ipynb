{
 "cells": [
  {
   "cell_type": "markdown",
   "metadata": {
    "deletable": true,
    "editable": true
   },
   "source": [
    "LOADING CSV'S"
   ]
  },
  {
   "cell_type": "code",
   "execution_count": 77,
   "metadata": {
    "collapsed": false,
    "deletable": true,
    "editable": true
   },
   "outputs": [
    {
     "name": "stdout",
     "output_type": "stream",
     "text": [
      "{u'status': u'canceled', u'is_udacity': u'True', u'is_canceled': u'True', u'join_date': u'2014-11-10', u'account_key': u'448', u'cancel_date': u'2015-01-14', u'days_to_cancel': u'65'}\n",
      "{u'lessons_completed': u'0.0', u'num_courses_visited': u'1.0', u'total_minutes_visited': u'11.6793745', u'projects_completed': u'0.0', u'acct': u'0', u'utc_date': u'2015-01-09'}\n",
      "{u'lesson_key': u'3176718735', u'processing_state': u'EVALUATED', u'account_key': u'256', u'assigned_rating': u'UNGRADED', u'completion_date': u'2015-01-16', u'creation_date': u'2015-01-14'}\n"
     ]
    }
   ],
   "source": [
    "# Importing a CSV into python as a list of list or a list of dictionaries \n",
    "\n",
    "# Way 1 - each row is a list so list of lists\n",
    "# Way 2 - each row is a dictionary (good when you have headers as well) so list of dictionaries\n",
    "\n",
    "\n",
    "# Way 2\n",
    "import unicodecsv\n",
    "import os\n",
    "\n",
    "enrollments = []\n",
    "\n",
    "f1 = open(\"enrollments.csv\",'rb')  #Rb specifies that we are just reading the file and as binary input\n",
    "reader = unicodecsv.DictReader(f1)\n",
    "\n",
    "for i in reader:\n",
    "    enrollments.append(i)\n",
    "f1.close()\n",
    "\n",
    "# Shorter function for doing the same thing\n",
    "\n",
    "def read_csv(filename):\n",
    "    with open(filename,'rb') as f:          # Used the with function here hence no need to use .close()\n",
    "        iterator = unicodecsv.DictReader(f) # Directly converted iterator to list hence no need for for loop\n",
    "        return list(iterator)\n",
    "    \n",
    "\n",
    "enrollments =read_csv(\"enrollments.csv\")  #'u' in the begining of each dict key and value means that the value has been represented\n",
    "                                          # as unicode which offers more letters than ascii\n",
    "\n",
    "daily_engagement =read_csv(\"daily_engagement.csv\")\n",
    "project_submissions =read_csv(\"project_submissions.csv\")\n",
    "\n",
    "print enrollments[0]\n",
    "print daily_engagement[0]\n",
    "print project_submissions[0]"
   ]
  },
  {
   "cell_type": "markdown",
   "metadata": {
    "deletable": true,
    "editable": true
   },
   "source": [
    "FIXING DATA TYPES"
   ]
  },
  {
   "cell_type": "code",
   "execution_count": 219,
   "metadata": {
    "collapsed": false,
    "deletable": true,
    "editable": true
   },
   "outputs": [
    {
     "ename": "TypeError",
     "evalue": "strptime() argument 1 must be string, not datetime.datetime",
     "output_type": "error",
     "traceback": [
      "\u001b[0;31m---------------------------------------------------------------------------\u001b[0m",
      "\u001b[0;31mTypeError\u001b[0m                                 Traceback (most recent call last)",
      "\u001b[0;32m<ipython-input-219-4d0cf6437f65>\u001b[0m in \u001b[0;36m<module>\u001b[0;34m()\u001b[0m\n\u001b[1;32m     19\u001b[0m \u001b[1;31m# Clean up the data types in the enrollments table\u001b[0m\u001b[1;33m\u001b[0m\u001b[1;33m\u001b[0m\u001b[0m\n\u001b[1;32m     20\u001b[0m \u001b[1;32mfor\u001b[0m \u001b[0menrollment\u001b[0m \u001b[1;32min\u001b[0m \u001b[0menrollments\u001b[0m\u001b[1;33m:\u001b[0m\u001b[1;33m\u001b[0m\u001b[0m\n\u001b[0;32m---> 21\u001b[0;31m     \u001b[0menrollment\u001b[0m\u001b[1;33m[\u001b[0m\u001b[1;34m'cancel_date'\u001b[0m\u001b[1;33m]\u001b[0m \u001b[1;33m=\u001b[0m \u001b[0mparse_date\u001b[0m\u001b[1;33m(\u001b[0m\u001b[0menrollment\u001b[0m\u001b[1;33m[\u001b[0m\u001b[1;34m'cancel_date'\u001b[0m\u001b[1;33m]\u001b[0m\u001b[1;33m)\u001b[0m\u001b[1;33m\u001b[0m\u001b[0m\n\u001b[0m\u001b[1;32m     22\u001b[0m     \u001b[0menrollment\u001b[0m\u001b[1;33m[\u001b[0m\u001b[1;34m'days_to_cancel'\u001b[0m\u001b[1;33m]\u001b[0m \u001b[1;33m=\u001b[0m \u001b[0mparse_maybe_int\u001b[0m\u001b[1;33m(\u001b[0m\u001b[0menrollment\u001b[0m\u001b[1;33m[\u001b[0m\u001b[1;34m'days_to_cancel'\u001b[0m\u001b[1;33m]\u001b[0m\u001b[1;33m)\u001b[0m\u001b[1;33m\u001b[0m\u001b[0m\n\u001b[1;32m     23\u001b[0m     \u001b[0menrollment\u001b[0m\u001b[1;33m[\u001b[0m\u001b[1;34m'is_canceled'\u001b[0m\u001b[1;33m]\u001b[0m \u001b[1;33m=\u001b[0m \u001b[0menrollment\u001b[0m\u001b[1;33m[\u001b[0m\u001b[1;34m'is_canceled'\u001b[0m\u001b[1;33m]\u001b[0m \u001b[1;33m==\u001b[0m \u001b[1;34m'True'\u001b[0m\u001b[1;33m\u001b[0m\u001b[0m\n",
      "\u001b[0;32m<ipython-input-219-4d0cf6437f65>\u001b[0m in \u001b[0;36mparse_date\u001b[0;34m(date)\u001b[0m\n\u001b[1;32m      7\u001b[0m         \u001b[1;32mreturn\u001b[0m \u001b[0mNone\u001b[0m\u001b[1;33m\u001b[0m\u001b[0m\n\u001b[1;32m      8\u001b[0m     \u001b[1;32melse\u001b[0m\u001b[1;33m:\u001b[0m\u001b[1;33m\u001b[0m\u001b[0m\n\u001b[0;32m----> 9\u001b[0;31m         \u001b[1;32mreturn\u001b[0m \u001b[0mdt\u001b[0m\u001b[1;33m.\u001b[0m\u001b[0mstrptime\u001b[0m\u001b[1;33m(\u001b[0m\u001b[0mdate\u001b[0m\u001b[1;33m,\u001b[0m \u001b[1;34m'%Y-%m-%d'\u001b[0m\u001b[1;33m)\u001b[0m\u001b[1;33m\u001b[0m\u001b[0m\n\u001b[0m\u001b[1;32m     10\u001b[0m \u001b[1;33m\u001b[0m\u001b[0m\n\u001b[1;32m     11\u001b[0m \u001b[1;31m# Takes a string which is either an empty string or represents an integer,\u001b[0m\u001b[1;33m\u001b[0m\u001b[1;33m\u001b[0m\u001b[0m\n",
      "\u001b[0;31mTypeError\u001b[0m: strptime() argument 1 must be string, not datetime.datetime"
     ]
    }
   ],
   "source": [
    "from datetime import datetime as dt\n",
    "\n",
    "# Takes a date as a string, and returns a Python datetime object. \n",
    "# If there is no date given, returns None\n",
    "def parse_date(date):\n",
    "    if date == '':\n",
    "        return None\n",
    "    else:\n",
    "        return dt.strptime(date, '%Y-%m-%d')\n",
    "    \n",
    "# Takes a string which is either an empty string or represents an integer,\n",
    "# and returns an int or None.\n",
    "def parse_maybe_int(i):\n",
    "    if i == '':\n",
    "        return None\n",
    "    else:\n",
    "        return int(i)\n",
    "\n",
    "# Clean up the data types in the enrollments table\n",
    "for enrollment in enrollments:\n",
    "    enrollment['cancel_date'] = parse_date(enrollment['cancel_date'])\n",
    "    enrollment['days_to_cancel'] = parse_maybe_int(enrollment['days_to_cancel'])\n",
    "    enrollment['is_canceled'] = enrollment['is_canceled'] == 'True'\n",
    "    enrollment['is_udacity'] = enrollment['is_udacity'] == 'True'\n",
    "    enrollment['join_date'] = parse_date(enrollment['join_date'])\n",
    "    \n",
    "enrollments[1]"
   ]
  },
  {
   "cell_type": "code",
   "execution_count": 79,
   "metadata": {
    "collapsed": false,
    "deletable": true,
    "editable": true
   },
   "outputs": [
    {
     "data": {
      "text/plain": [
       "{u'acct': u'0',\n",
       " u'lessons_completed': 0,\n",
       " u'num_courses_visited': 1,\n",
       " u'projects_completed': 0,\n",
       " u'total_minutes_visited': 11.6793745,\n",
       " u'utc_date': datetime.datetime(2015, 1, 9, 0, 0)}"
      ]
     },
     "execution_count": 79,
     "metadata": {},
     "output_type": "execute_result"
    }
   ],
   "source": [
    "# Clean up the data types in the engagement table\n",
    "for engagement_record in daily_engagement:\n",
    "    engagement_record['lessons_completed'] = int(float(engagement_record['lessons_completed'])) # Direct conversion of decimals from string to int would throw error\n",
    "    engagement_record['num_courses_visited'] = int(float(engagement_record['num_courses_visited']))\n",
    "    engagement_record['projects_completed'] = int(float(engagement_record['projects_completed']))\n",
    "    engagement_record['total_minutes_visited'] = float(engagement_record['total_minutes_visited'])\n",
    "    engagement_record['utc_date'] = parse_date(engagement_record['utc_date'])\n",
    "    \n",
    "daily_engagement[0]"
   ]
  },
  {
   "cell_type": "code",
   "execution_count": 80,
   "metadata": {
    "collapsed": false,
    "deletable": true,
    "editable": true
   },
   "outputs": [
    {
     "data": {
      "text/plain": [
       "{u'account_key': u'256',\n",
       " u'assigned_rating': u'UNGRADED',\n",
       " u'completion_date': datetime.datetime(2015, 1, 16, 0, 0),\n",
       " u'creation_date': datetime.datetime(2015, 1, 14, 0, 0),\n",
       " u'lesson_key': u'3176718735',\n",
       " u'processing_state': u'EVALUATED'}"
      ]
     },
     "execution_count": 80,
     "metadata": {},
     "output_type": "execute_result"
    }
   ],
   "source": [
    "# Clean up the data types in the submissions table\n",
    "for submission in project_submissions:\n",
    "    submission['completion_date'] = parse_date(submission['completion_date'])\n",
    "    submission['creation_date'] = parse_date(submission['creation_date']) # Creation date is now a object of the datetime class \n",
    "                                                                          # created using the strptime function in the datetime class\n",
    "project_submissions[0]"
   ]
  },
  {
   "cell_type": "markdown",
   "metadata": {
    "deletable": true,
    "editable": true
   },
   "source": [
    "INVESTIGATING DATA"
   ]
  },
  {
   "cell_type": "code",
   "execution_count": 81,
   "metadata": {
    "collapsed": false,
    "deletable": true,
    "editable": true
   },
   "outputs": [
    {
     "name": "stdout",
     "output_type": "stream",
     "text": [
      "No of rows in each : 1640\n",
      "No of unique students1302\n",
      "No of rows in each : 3642\n",
      "No of unique students743\n",
      "No of rows in each : 136240\n",
      "No of unique students1237\n"
     ]
    }
   ],
   "source": [
    "#####################################\n",
    "#                 2                 #\n",
    "#####################################\n",
    "\n",
    "## Find the total number of rows and the number of unique students (account keys)\n",
    "## in each table.\n",
    "data_sets = [enrollments,project_submissions,daily_engagement]\n",
    "\n",
    "# Only execute once to rename 'acct' to 'account key' in the daily engagement file\n",
    "for i in daily_engagement:   \n",
    "    i['account_key'] = i.pop('acct')\n",
    "    \n",
    "    \n",
    "# Function for No of unique students in each dataset\n",
    "def no_unique_stud(data_list):\n",
    "    all_studs = []\n",
    "    for i in data_list:\n",
    "        if i['account_key'] not in all_studs:    # We could have used set() data structure instead of list and not have to use \n",
    "            all_studs.append(i['account_key'])   # 'not in' keyword then\n",
    "    return len(all_studs)\n",
    "\n",
    "\n",
    "# No of rows and unique students\n",
    "for i in data_sets:\n",
    "    print \"No of rows in each : \"  + str(len(i))\n",
    "    print \"No of unique students\" + str(no_unique_stud(i))"
   ]
  },
  {
   "cell_type": "code",
   "execution_count": 101,
   "metadata": {
    "collapsed": false,
    "deletable": true,
    "editable": true
   },
   "outputs": [
    {
     "name": "stdout",
     "output_type": "stream",
     "text": [
      "1304\n",
      "{u'status': u'canceled', u'is_udacity': True, u'is_canceled': True, u'join_date': datetime.datetime(2015, 1, 10, 0, 0), u'account_key': u'1304', u'cancel_date': datetime.datetime(2015, 3, 10, 0, 0), u'days_to_cancel': 59}\n",
      "{u'status': u'canceled', u'is_udacity': True, u'is_canceled': True, u'join_date': datetime.datetime(2015, 3, 10, 0, 0), u'account_key': u'1304', u'cancel_date': datetime.datetime(2015, 6, 17, 0, 0), u'days_to_cancel': 99}\n"
     ]
    }
   ],
   "source": [
    "#####################################\n",
    "#                 4                 #\n",
    "#####################################\n",
    "\n",
    "## Find any one student enrollments where the student is missing from the daily engagement table.\n",
    "## Output that enrollment.\n",
    "data_sets = [enrollments,project_submissions,daily_engagement]\n",
    "\n",
    "def list_unique_stud(data_list):\n",
    "    all_studs = set()\n",
    "    for i in data_list:  \n",
    "            all_studs.add(i['account_key'])   # Using sets this time\n",
    "    return all_studs\n",
    "\n",
    "enrol_studs = list_unique_stud(enrollments)\n",
    "daily_engagement_stud = list_unique_stud(daily_engagement)\n",
    "\n",
    "extra_enrol = enrol_studs.difference(daily_engagement_stud)\n",
    "\n",
    "for i in extra_enrol:       # As sets dont support indexing (unordered pair of elements printing the first element of the set)\n",
    "    print i\n",
    "    break\n",
    "    \n",
    "#Another approach\n",
    "\n",
    "ex = list(extra_enrol)[0]  #- convert to list and print \n",
    "ex = '1304'\n",
    "\n",
    "for i in enrollments:\n",
    "    if i['account_key'] ==ex:\n",
    "        print i"
   ]
  },
  {
   "cell_type": "code",
   "execution_count": 203,
   "metadata": {
    "collapsed": false,
    "deletable": true,
    "editable": true
   },
   "outputs": [
    {
     "data": {
      "text/plain": [
       "65"
      ]
     },
     "execution_count": 203,
     "metadata": {},
     "output_type": "execute_result"
    }
   ],
   "source": [
    "extra_2 = enrol_studs.difference(daily_engagement_stud) \n",
    "len(extra_2)"
   ]
  },
  {
   "cell_type": "code",
   "execution_count": 205,
   "metadata": {
    "collapsed": false,
    "deletable": true,
    "editable": true
   },
   "outputs": [
    {
     "name": "stdout",
     "output_type": "stream",
     "text": [
      "2\n"
     ]
    },
    {
     "data": {
      "text/plain": [
       "3"
      ]
     },
     "execution_count": 205,
     "metadata": {},
     "output_type": "execute_result"
    }
   ],
   "source": [
    "#####################################\n",
    "#                 5                 #\n",
    "#####################################\n",
    "\n",
    "## Find the number of surprising unique account keys that are left (enrollments missing from\n",
    "## the engagement table) that remain, if any.\n",
    "\n",
    "len(extra_enrol)\n",
    "extra_enrol_dict = {}\n",
    "\n",
    "for i in extra_enrol:\n",
    "    for j in enrollments:\n",
    "        if j['account_key'] ==i:\n",
    "            if (j['cancel_date'] == None) or (j['join_date'] == None):\n",
    "                extra_enrol_dict[i] = False\n",
    "            else:\n",
    "                extra_enrol_dict[i] = j['cancel_date'] == j['join_date']\n",
    "          \n",
    "a= 0\n",
    "for i in extra_enrol_dict.iteritems():\n",
    "    if i[1] == False:\n",
    "        a +=1\n",
    "    \n",
    "print a\n",
    "\n",
    "# Same thing(but if there are duplicate account keys in enrollment they are counted twice)\n",
    "# no of suprising data points left but shorter approach - \n",
    "\n",
    "b = 0\n",
    "for i in enrollments:\n",
    "    if i['account_key'] not in daily_engagement_stud and i['cancel_date'] != i['join_date']:\n",
    "        b +=1\n",
    "b\n",
    "\n",
    "# Note - We found out that these 3 records were of test accounts ie udacity test accounts which are not really students \n",
    "# Hence we are going to remove all udacity test accounts which will also remove these 3 wierd accounts before we start the \n",
    "# Data exploration phase"
   ]
  },
  {
   "cell_type": "markdown",
   "metadata": {
    "deletable": true,
    "editable": true
   },
   "source": [
    "Tracking Down the Remaining Problems"
   ]
  },
  {
   "cell_type": "code",
   "execution_count": 218,
   "metadata": {
    "collapsed": false,
    "deletable": true,
    "editable": true
   },
   "outputs": [
    {
     "name": "stdout",
     "output_type": "stream",
     "text": [
      "Total account keys that are related to test accounts6\n"
     ]
    }
   ],
   "source": [
    "# Create a set of the account keys for all Udacity test accounts\n",
    "udacity_test_accounts = set()\n",
    "for enrollment in enrollments:\n",
    "    if enrollment['is_udacity']:\n",
    "        udacity_test_accounts.add(enrollment['account_key'])\n",
    "        \n",
    "print \"Total account keys that are related to test accounts : \" + str(len(udacity_test_accounts))\n",
    "\n",
    "# Given some data with an account_key field, removes any records corresponding to Udacity test accounts\n",
    "def remove_udacity_accounts(data):\n",
    "    non_udacity_data = []\n",
    "    for data_point in data:\n",
    "        if data_point['account_key'] not in udacity_test_accounts:\n",
    "            non_udacity_data.append(data_point)\n",
    "    return non_udacity_data"
   ]
  },
  {
   "cell_type": "code",
   "execution_count": 220,
   "metadata": {
    "collapsed": false,
    "deletable": true,
    "editable": true
   },
   "outputs": [
    {
     "name": "stdout",
     "output_type": "stream",
     "text": [
      "1622\n",
      "135656\n",
      "3634\n"
     ]
    }
   ],
   "source": [
    "# Remove Udacity test accounts from all three tables\n",
    "non_udacity_enrollments = remove_udacity_accounts(enrollments)\n",
    "non_udacity_engagement = remove_udacity_accounts(daily_engagement)\n",
    "non_udacity_submissions = remove_udacity_accounts(project_submissions)\n",
    "\n",
    "print len(non_udacity_enrollments)\n",
    "print len(non_udacity_engagement)\n",
    "print len(non_udacity_submissions)"
   ]
  },
  {
   "cell_type": "code",
   "execution_count": 249,
   "metadata": {
    "collapsed": false,
    "deletable": true,
    "editable": true
   },
   "outputs": [
    {
     "data": {
      "text/plain": [
       "995"
      ]
     },
     "execution_count": 249,
     "metadata": {},
     "output_type": "execute_result"
    }
   ],
   "source": [
    "#####################################\n",
    "#                 6                 #\n",
    "#####################################\n",
    "\n",
    "## Create a dictionary named paid_students containing all students who either\n",
    "## haven't canceled yet or who remained enrolled for more than 7 days. The keys\n",
    "## should be account keys, and the values should be the date the student enrolled.\n",
    "\n",
    "paid_students = {}\n",
    "for i in non_udacity_enrollments:\n",
    "    if i['days_to_cancel'] > 7 or i['is_canceled'] == False: \n",
    "        \n",
    "        account_key = i['account_key']\n",
    "        join_date = i['join_date']\n",
    "        \n",
    "        if account_key not in paid_students or paid_students[account_key] < join_date:  # Saving only the latest join date in case\n",
    "            paid_students[account_key] = join_date                                      # a student has 2 records in enrollment table\n",
    "                                                                                      # and hence has 2 join dates\n",
    "                \n",
    "print len(paid_students)"
   ]
  },
  {
   "cell_type": "markdown",
   "metadata": {
    "deletable": true,
    "editable": true
   },
   "source": [
    "Getting Data from First Week"
   ]
  },
  {
   "cell_type": "code",
   "execution_count": 313,
   "metadata": {
    "collapsed": true,
    "deletable": true,
    "editable": true
   },
   "outputs": [],
   "source": [
    "# Takes a student's join date and the date of a specific engagement record,\n",
    "# and returns True if that engagement record happened within one week\n",
    "# of the student joining.\n",
    "def within_one_week(join_date, engagement_date):\n",
    "    time_delta = engagement_date - join_date\n",
    "    return time_delta.days < 7 and time_delta.days >=0"
   ]
  },
  {
   "cell_type": "code",
   "execution_count": 314,
   "metadata": {
    "collapsed": false,
    "deletable": true,
    "editable": true
   },
   "outputs": [
    {
     "data": {
      "text/plain": [
       "6919"
      ]
     },
     "execution_count": 314,
     "metadata": {},
     "output_type": "execute_result"
    }
   ],
   "source": [
    "#####################################\n",
    "#                 7                 #\n",
    "#####################################\n",
    "\n",
    "## Create a list of rows from the engagement table including only rows where\n",
    "## the student is one of the paid students you just found, and the date is within\n",
    "## one week of the student's join date.\n",
    "\n",
    "paid_engagement_in_first_week = []\n",
    "\n",
    "for i in non_udacity_engagement:\n",
    "    if i['account_key'] in paid_students.keys() and within_one_week(paid_students[i['account_key']],i['utc_date']):        \n",
    "        paid_engagement_in_first_week.append(i)\n",
    "        \n",
    "len(paid_engagement_in_first_week)        \n",
    "# 21508\n",
    "# 6919 - New records after using time.delta.days >0"
   ]
  },
  {
   "cell_type": "markdown",
   "metadata": {
    "deletable": true,
    "editable": true
   },
   "source": [
    "Exploring Student Engagement"
   ]
  },
  {
   "cell_type": "code",
   "execution_count": 315,
   "metadata": {
    "collapsed": false,
    "deletable": true,
    "editable": true
   },
   "outputs": [
    {
     "data": {
      "text/plain": [
       "(u'1200',\n",
       " [{'account_key': u'1200',\n",
       "   u'lessons_completed': 1,\n",
       "   u'num_courses_visited': 2,\n",
       "   u'projects_completed': 0,\n",
       "   u'total_minutes_visited': 114.853432,\n",
       "   u'utc_date': datetime.datetime(2015, 3, 4, 0, 0)},\n",
       "  {'account_key': u'1200',\n",
       "   u'lessons_completed': 0,\n",
       "   u'num_courses_visited': 1,\n",
       "   u'projects_completed': 0,\n",
       "   u'total_minutes_visited': 43.4168625,\n",
       "   u'utc_date': datetime.datetime(2015, 3, 5, 0, 0)},\n",
       "  {'account_key': u'1200',\n",
       "   u'lessons_completed': 0,\n",
       "   u'num_courses_visited': 1,\n",
       "   u'projects_completed': 0,\n",
       "   u'total_minutes_visited': 187.776832833,\n",
       "   u'utc_date': datetime.datetime(2015, 3, 6, 0, 0)},\n",
       "  {'account_key': u'1200',\n",
       "   u'lessons_completed': 0,\n",
       "   u'num_courses_visited': 1,\n",
       "   u'projects_completed': 0,\n",
       "   u'total_minutes_visited': 150.081577333,\n",
       "   u'utc_date': datetime.datetime(2015, 3, 7, 0, 0)},\n",
       "  {'account_key': u'1200',\n",
       "   u'lessons_completed': 0,\n",
       "   u'num_courses_visited': 1,\n",
       "   u'projects_completed': 0,\n",
       "   u'total_minutes_visited': 191.61088,\n",
       "   u'utc_date': datetime.datetime(2015, 3, 8, 0, 0)},\n",
       "  {'account_key': u'1200',\n",
       "   u'lessons_completed': 0,\n",
       "   u'num_courses_visited': 0,\n",
       "   u'projects_completed': 0,\n",
       "   u'total_minutes_visited': 0.0,\n",
       "   u'utc_date': datetime.datetime(2015, 3, 9, 0, 0)},\n",
       "  {'account_key': u'1200',\n",
       "   u'lessons_completed': 0,\n",
       "   u'num_courses_visited': 1,\n",
       "   u'projects_completed': 0,\n",
       "   u'total_minutes_visited': 8.83762516667,\n",
       "   u'utc_date': datetime.datetime(2015, 3, 10, 0, 0)}])"
      ]
     },
     "execution_count": 315,
     "metadata": {},
     "output_type": "execute_result"
    }
   ],
   "source": [
    "# Interesting conversion - using defaultdict\n",
    "# Converting paid_engagement_in_first_week from a list of dicts to a single dict with key as account keys and all the \n",
    "# corrospoding records for the account key as a list \n",
    "\n",
    "from collections import defaultdict\n",
    "engagement_by_account = defaultdict(list)\n",
    "\n",
    "for engagement in paid_engagement_in_first_week:\n",
    "    engagement_by_account[engagement['account_key']].append(engagement)\n",
    "    \n",
    "\n",
    "engagement_by_account.items()[0]"
   ]
  },
  {
   "cell_type": "code",
   "execution_count": 316,
   "metadata": {
    "collapsed": false,
    "deletable": true,
    "editable": true
   },
   "outputs": [
    {
     "name": "stdout",
     "output_type": "stream",
     "text": [
      "Mean: 306.708326753\n",
      "Standard deviation: 412.996933409\n",
      "Minimum: 0.0\n",
      "Maximum: 3564.7332645\n"
     ]
    }
   ],
   "source": [
    "# Create a dictionary with the total minutes each student spent in the classroom during the first week.\n",
    "# The keys are account keys, and the values are numbers (total minutes)\n",
    "\n",
    "total_minutes_by_account = {}\n",
    "\n",
    "for k,v in engagement_by_account.items():\n",
    "    mins = 0\n",
    "    for dict_1 in v:\n",
    "        mins = mins + dict_1['total_minutes_visited']\n",
    "    total_minutes_by_account[k] = mins\n",
    "\n",
    "total_minutes_by_account\n",
    "\n",
    "import numpy as np\n",
    "\n",
    "# Summarize the data about minutes spent in the classroom\n",
    "total_minutes = total_minutes_by_account.values()\n",
    "print 'Mean:', np.mean(total_minutes)\n",
    "print 'Standard deviation:', np.std(total_minutes)\n",
    "print 'Minimum:', np.min(total_minutes)\n",
    "print 'Maximum:', np.max(total_minutes)\n",
    "print 'Initial max was :10000 mins'"
   ]
  },
  {
   "cell_type": "code",
   "execution_count": 318,
   "metadata": {
    "collapsed": false,
    "deletable": true,
    "editable": true
   },
   "outputs": [
    {
     "data": {
      "text/plain": [
       "[]"
      ]
     },
     "execution_count": 318,
     "metadata": {},
     "output_type": "execute_result"
    }
   ],
   "source": [
    "#####################################\n",
    "#                 8                 #\n",
    "#####################################\n",
    "\n",
    "## Debugging maximum minutes as they are more than the mins in a week\n",
    "## Go through a similar process as before to see if there is a problem.\n",
    "## Locate at least one surprising piece of data, output it, and take a look at it.\n",
    "\n",
    "edge_cases = [k for k,v in total_minutes_by_account.items() if v>9000]\n",
    "\n",
    "a= []\n",
    "for i in edge_cases:\n",
    "    a =  engagement_by_account[i] \n",
    "\n",
    "# Interestingly we see that the date entries for this individual span for more than a week showing that there is something wrong\n",
    "# with the datediff function that we created earlier  which we used to find the difference between the engagement records and\n",
    "# the enrollment date we took enrollment cases less than 7 days and hence also took cases for less than any day as we did not \n",
    "# put check for <0 \n",
    "\n",
    "# After putting the check no cases with 10,000 mins now\n",
    "\n",
    "a"
   ]
  },
  {
   "cell_type": "markdown",
   "metadata": {
    "deletable": true,
    "editable": true
   },
   "source": [
    "Lessons Completed in First Week"
   ]
  },
  {
   "cell_type": "code",
   "execution_count": 371,
   "metadata": {
    "collapsed": false,
    "deletable": true,
    "editable": true
   },
   "outputs": [
    {
     "name": "stdout",
     "output_type": "stream",
     "text": [
      "Mean: 1.63618090452\n",
      "Standard deviation: 3.00256129983\n",
      "Minimum: 0\n",
      "Maximum: 36\n"
     ]
    }
   ],
   "source": [
    "#####################################\n",
    "#                 9                 #\n",
    "#####################################\n",
    "\n",
    "## Adapt the code above to find the mean, standard deviation, minimum, and maximum for\n",
    "## the number of lessons completed by each student during the first week. Try creating\n",
    "## one or more functions to re-use the code above.\n",
    "\n",
    "\n",
    "from collections import defaultdict\n",
    "\n",
    "def engagement_by_account(paid_engagement_in_first_week):\n",
    "    engagement_by_account = defaultdict(list)\n",
    "    for engagement in paid_engagement_in_first_week:\n",
    "        engagement_by_account[engagement['account_key']].append(engagement)\n",
    "    \n",
    "    return engagement_by_account\n",
    "    \n",
    "\n",
    "def variable_grouped_by_account(engagement_by_account,variable):\n",
    "    \n",
    "    lessons_completed_by_account = {}\n",
    "    for k,v in engagement_by_account.items():\n",
    "        mins = 0\n",
    "        for dict_1 in v:\n",
    "            mins = mins + dict_1[variable]\n",
    "        lessons_completed_by_account[k] = mins\n",
    "        \n",
    "    return lessons_completed_by_account\n",
    "\n",
    "\n",
    "import numpy as np\n",
    "\n",
    "# Summarize the data about minutes spent in the classroom\n",
    "\n",
    "def summarize(dictionary):\n",
    "    total_minutes = dictionary.values()\n",
    "    print 'Mean:', np.mean(total_minutes)\n",
    "    print 'Standard deviation:', np.std(total_minutes)\n",
    "    print 'Minimum:', np.min(total_minutes)\n",
    "    print 'Maximum:', np.max(total_minutes)\n",
    "\n",
    "\n",
    "engage_by_account = engagement_by_account(paid_engagement_in_first_week)\n",
    "group_dict = variable_grouped_by_account(engage_by_account,'lessons_completed')\n",
    "summarize(group_dict)"
   ]
  },
  {
   "cell_type": "markdown",
   "metadata": {
    "deletable": true,
    "editable": true
   },
   "source": [
    "Number of Visits in First Week"
   ]
  },
  {
   "cell_type": "code",
   "execution_count": 386,
   "metadata": {
    "collapsed": false,
    "deletable": true,
    "editable": true
   },
   "outputs": [
    {
     "name": "stdout",
     "output_type": "stream",
     "text": [
      "Mean: 1.90517241379\n",
      "Standard deviation: 1.90573144136\n",
      "Minimum: 0\n",
      "Maximum: 7\n"
     ]
    }
   ],
   "source": [
    "######################################\n",
    "#                 10                 #\n",
    "######################################\n",
    "\n",
    "## Find the mean, standard deviation, minimum, and maximum for the number of\n",
    "## days each student visits the classroom during the first week.\n",
    "## Recreating the grouping function here by adding a counter for weather the student visited a course on any particular day or not\n",
    "## Note : There are engagement records where the no of courses visited by a student are 0 that day.\n",
    "\n",
    "def variable_grouped_by_account_1(engagement_by_account):\n",
    "    \n",
    "    group_variable = {}\n",
    "    for k,v in engagement_by_account.items():   \n",
    "        days_visit = 0\n",
    "        for dict_1 in v:\n",
    "            if dict_1['num_courses_visited'] > 0:\n",
    "                days_visit += 1 \n",
    "        group_variable[k] = days_visit\n",
    "        \n",
    "    return group_variable\n",
    "\n",
    "summarize(variable_grouped_by_account_1(engage_by_account))"
   ]
  },
  {
   "cell_type": "markdown",
   "metadata": {
    "deletable": true,
    "editable": true
   },
   "source": [
    " Splitting out Passing Students"
   ]
  },
  {
   "cell_type": "code",
   "execution_count": 367,
   "metadata": {
    "collapsed": false,
    "deletable": true,
    "editable": true
   },
   "outputs": [
    {
     "name": "stdout",
     "output_type": "stream",
     "text": [
      "2392\n",
      "4527\n",
      "6919\n"
     ]
    },
    {
     "data": {
      "text/plain": [
       "656"
      ]
     },
     "execution_count": 367,
     "metadata": {},
     "output_type": "execute_result"
    }
   ],
   "source": [
    "######################################\n",
    "#                 11                 #\n",
    "######################################\n",
    "\n",
    "## Create two lists of engagement data for paid students in the first week.\n",
    "## The first list should contain data for students who eventually pass the\n",
    "## subway project, and the second list should contain data for students\n",
    "## who do not.\n",
    "\n",
    "subway_project_lesson_keys = ['746169184', '3176718735']\n",
    "\n",
    "# passing_engagement =\n",
    "# non_passing_engagement =\n",
    "\n",
    "# paid_engagement_in_first_week\n",
    "\n",
    "passed_accounts = []\n",
    "passing_engagement = []\n",
    "non_passing_engagement = []\n",
    "\n",
    "for i in non_udacity_submissions:\n",
    "\n",
    "    if i['assigned_rating'] in ['PASSED','DISTINCTION'] and i['lesson_key'] in subway_project_lesson_keys:\n",
    "        passed_accounts.append(i['account_key'])\n",
    "\n",
    "for j in paid_engagement_in_first_week:\n",
    "    if j['account_key'] in passed_accounts:\n",
    "        passing_engagement.append(j)\n",
    "    else:\n",
    "        non_passing_engagement.append(j)\n",
    "\n",
    "        \n",
    "print \"No of students who did not pass the 1st assignment\" + str(len(non_passing_engagement))\n",
    "print \"No of students who passed the 1st assignment\" + str(len(passing_engagement))"
   ]
  },
  {
   "cell_type": "markdown",
   "metadata": {
    "deletable": true,
    "editable": true
   },
   "source": [
    "Comparing the Two Student Groups"
   ]
  },
  {
   "cell_type": "code",
   "execution_count": 372,
   "metadata": {
    "collapsed": false,
    "deletable": true,
    "editable": true
   },
   "outputs": [
    {
     "name": "stdout",
     "output_type": "stream",
     "text": [
      "Mean: 394.586046484\n",
      "Standard deviation: 448.499519327\n",
      "Minimum: 0.0\n",
      "Maximum: 3564.7332645\n",
      "None\n",
      "Mean: 143.326474267\n",
      "Standard deviation: 269.538619011\n",
      "Minimum: 0.0\n",
      "Maximum: 1768.52274933\n",
      "None\n"
     ]
    }
   ],
   "source": [
    "######################################\n",
    "#                 12                 #\n",
    "######################################\n",
    "\n",
    "## Compute some metrics you're interested in and see how they differ for\n",
    "## students who pass the subway project vs. students who don't. A good\n",
    "## starting point would be the metrics we looked at earlier (minutes spent\n",
    "## in the classroom, lessons completed, and days visited).\n",
    "\n",
    "engage_by_account = engagement_by_account(passing_engagement)\n",
    "group_dict = variable_grouped_by_account(engage_by_account,'total_minutes_visited')\n",
    "print summarize(group_dict)\n",
    "\n",
    "engage_by_account = engagement_by_account(non_passing_engagement)\n",
    "group_dict_1 = variable_grouped_by_account(engage_by_account,'total_minutes_visited')\n",
    "print summarize(group_dict_1)"
   ]
  },
  {
   "cell_type": "markdown",
   "metadata": {
    "deletable": true,
    "editable": true
   },
   "source": [
    "Making Histograms"
   ]
  },
  {
   "cell_type": "code",
   "execution_count": 378,
   "metadata": {
    "collapsed": false,
    "deletable": true,
    "editable": true
   },
   "outputs": [
    {
     "data": {
      "text/plain": [
       "(array([ 226.,   46.,   21.,   13.,   12.,    5.,    1.,    8.,    3.,\n",
       "           3.,    2.,    0.,    1.,    0.,    1.,    4.,    0.,    0.,\n",
       "           0.,    2.]),\n",
       " array([    0.        ,    88.42613747,   176.85227493,   265.2784124 ,\n",
       "          353.70454987,   442.13068733,   530.5568248 ,   618.98296227,\n",
       "          707.40909973,   795.8352372 ,   884.26137467,   972.68751213,\n",
       "         1061.1136496 ,  1149.53978707,  1237.96592453,  1326.392062  ,\n",
       "         1414.81819947,  1503.24433693,  1591.6704744 ,  1680.09661187,\n",
       "         1768.52274933]),\n",
       " <a list of 20 Patch objects>)"
      ]
     },
     "execution_count": 378,
     "metadata": {},
     "output_type": "execute_result"
    },
    {
     "data": {
      "image/png": "[encoded data removed]",
      "text/plain": [
       "<matplotlib.figure.Figure at 0x5e24c50>"
      ]
     },
     "metadata": {},
     "output_type": "display_data"
    }
   ],
   "source": [
    "######################################\n",
    "#                 13                 #\n",
    "######################################\n",
    "\n",
    "## Make histograms of the three metrics we looked at earlier for both\n",
    "## students who passed the subway project and students who didn't. You\n",
    "## might also want to make histograms of any other metrics you examined.\n",
    "import seaborn as sns\n",
    "% matplotlib inline\n",
    "from matplotlib import pyplot as plt  # or import matplotlib.pyplot as plt\n",
    "plt.hist(group_dict.values(),bins = 20)\n",
    "plt.hist(group_dict_1.values(),bins = 20)"
   ]
  },
  {
   "cell_type": "code",
   "execution_count": 383,
   "metadata": {
    "collapsed": false,
    "deletable": true,
    "editable": true
   },
   "outputs": [
    {
     "name": "stdout",
     "output_type": "stream",
     "text": [
      "<function abspath at 0x000000000211E828>\n"
     ]
    }
   ],
   "source": [
    "os.path.abspath"
   ]
  }
 ],
 "metadata": {
  "kernelspec": {
   "display_name": "Python 3",
   "language": "python",
   "name": "python3"
  },
  "language_info": {
   "codemirror_mode": {
    "name": "ipython",
    "version": 3
   },
   "file_extension": ".py",
   "mimetype": "text/x-python",
   "name": "python",
   "nbconvert_exporter": "python",
   "pygments_lexer": "ipython3",
   "version": "3.5.2"
  }
 },
 "nbformat": 4,
 "nbformat_minor": 1
}
